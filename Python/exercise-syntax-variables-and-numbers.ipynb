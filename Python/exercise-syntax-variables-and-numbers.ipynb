{
 "cells": [
  {
   "cell_type": "markdown",
   "id": "c4a6ae95",
   "metadata": {
    "papermill": {
     "duration": 0.022745,
     "end_time": "2022-01-19T01:29:01.739638",
     "exception": false,
     "start_time": "2022-01-19T01:29:01.716893",
     "status": "completed"
    },
    "tags": []
   },
   "source": [
    "**This notebook is an exercise in the [Python](https://www.kaggle.com/learn/python) course.  You can reference the tutorial at [this link](https://www.kaggle.com/colinmorris/hello-python).**\n",
    "\n",
    "---\n"
   ]
  },
  {
   "cell_type": "markdown",
   "id": "69ae77c0",
   "metadata": {
    "papermill": {
     "duration": 0.021468,
     "end_time": "2022-01-19T01:29:01.783522",
     "exception": false,
     "start_time": "2022-01-19T01:29:01.762054",
     "status": "completed"
    },
    "tags": []
   },
   "source": [
    "Welcome to your first set of Python coding problems.  If this is your first time using Kaggle Notebooks, welcome! \n",
    "\n",
    "Notebooks are composed of blocks (called \"cells\") of text and code. Each of these is editable, though you'll mainly be editing the code cells to answer some questions.\n",
    "\n",
    "To get started, try running the code cell below (by pressing the ► button, or clicking on the cell and pressing ctrl+enter on your keyboard)."
   ]
  },
  {
   "cell_type": "code",
   "execution_count": 1,
   "id": "4c84c1c1",
   "metadata": {
    "execution": {
     "iopub.execute_input": "2022-01-19T01:29:01.838413Z",
     "iopub.status.busy": "2022-01-19T01:29:01.837718Z",
     "iopub.status.idle": "2022-01-19T01:29:01.842042Z",
     "shell.execute_reply": "2022-01-19T01:29:01.840854Z",
     "shell.execute_reply.started": "2022-01-19T01:16:48.411459Z"
    },
    "papermill": {
     "duration": 0.037057,
     "end_time": "2022-01-19T01:29:01.842294",
     "exception": false,
     "start_time": "2022-01-19T01:29:01.805237",
     "status": "completed"
    },
    "tags": []
   },
   "outputs": [
    {
     "name": "stdout",
     "output_type": "stream",
     "text": [
      "You've successfully run some Python code\n",
      "Congratulations!\n"
     ]
    }
   ],
   "source": [
    "print(\"You've successfully run some Python code\")\n",
    "print(\"Congratulations!\")"
   ]
  },
  {
   "cell_type": "markdown",
   "id": "0c1304d8",
   "metadata": {
    "papermill": {
     "duration": 0.021971,
     "end_time": "2022-01-19T01:29:01.888243",
     "exception": false,
     "start_time": "2022-01-19T01:29:01.866272",
     "status": "completed"
    },
    "tags": []
   },
   "source": [
    "Try adding another line of code in the cell above and re-running it. \n",
    "\n",
    "Now let's get a little fancier:  Add a new code cell by clicking on an existing code cell, hitting the escape key, and then hitting the `a` or `b` key.  The `a` key will add a cell above the current cell, and `b` adds a cell below.\n",
    "\n",
    "Great! Now you know how to use Notebooks.\n",
    "\n",
    "Each hands-on exercise starts by setting up our feedback and code checking mechanism. Run the code cell below to do that. Then you'll be ready to move on to question 0."
   ]
  },
  {
   "cell_type": "code",
   "execution_count": 2,
   "id": "e6357b0f",
   "metadata": {
    "_kg_hide-input": true,
    "_kg_hide-output": true,
    "execution": {
     "iopub.execute_input": "2022-01-19T01:29:01.945274Z",
     "iopub.status.busy": "2022-01-19T01:29:01.944494Z",
     "iopub.status.idle": "2022-01-19T01:29:01.990261Z",
     "shell.execute_reply": "2022-01-19T01:29:01.990904Z",
     "shell.execute_reply.started": "2022-01-19T01:16:58.374714Z"
    },
    "papermill": {
     "duration": 0.077437,
     "end_time": "2022-01-19T01:29:01.991128",
     "exception": false,
     "start_time": "2022-01-19T01:29:01.913691",
     "status": "completed"
    },
    "tags": []
   },
   "outputs": [
    {
     "name": "stdout",
     "output_type": "stream",
     "text": [
      "Setup complete! You're ready to start question 0.\n"
     ]
    }
   ],
   "source": [
    "from learntools.core import binder; binder.bind(globals())\n",
    "from learntools.python.ex1 import *\n",
    "print(\"Setup complete! You're ready to start question 0.\")"
   ]
  },
  {
   "cell_type": "markdown",
   "id": "1fa87b8f",
   "metadata": {
    "papermill": {
     "duration": 0.024102,
     "end_time": "2022-01-19T01:29:02.049071",
     "exception": false,
     "start_time": "2022-01-19T01:29:02.024969",
     "status": "completed"
    },
    "tags": []
   },
   "source": [
    "# 0.\n",
    "\n",
    "*This is a silly question intended as an introduction to the format we use for hands-on exercises throughout all Kaggle courses.*\n",
    "\n",
    "**What is your favorite color? **\n",
    "\n",
    "To complete this question, create a variable called `color` in the cell below with an appropriate value. The function call `q0.check()` (which we've already provided in the cell below) will check your answer."
   ]
  },
  {
   "cell_type": "code",
   "execution_count": 3,
   "id": "fc23890d",
   "metadata": {
    "execution": {
     "iopub.execute_input": "2022-01-19T01:29:02.099873Z",
     "iopub.status.busy": "2022-01-19T01:29:02.098810Z",
     "iopub.status.idle": "2022-01-19T01:29:02.110263Z",
     "shell.execute_reply": "2022-01-19T01:29:02.110901Z",
     "shell.execute_reply.started": "2022-01-19T01:17:48.442624Z"
    },
    "papermill": {
     "duration": 0.037474,
     "end_time": "2022-01-19T01:29:02.111086",
     "exception": false,
     "start_time": "2022-01-19T01:29:02.073612",
     "status": "completed"
    },
    "tags": []
   },
   "outputs": [
    {
     "data": {
      "application/javascript": [
       "parent.postMessage({\"jupyterEvent\": \"custom.exercise_interaction\", \"data\": {\"outcomeType\": 1, \"valueTowardsCompletion\": 0.25, \"interactionType\": 1, \"questionType\": 2, \"questionId\": \"0_ExerciseFormatTutorial\", \"learnToolsVersion\": \"0.3.4\", \"failureMessage\": \"\", \"exceptionClass\": \"\", \"trace\": \"\"}}, \"*\")"
      ],
      "text/plain": [
       "<IPython.core.display.Javascript object>"
      ]
     },
     "metadata": {},
     "output_type": "display_data"
    },
    {
     "data": {
      "text/markdown": [
       "<span style=\"color:#33cc33\">Correct:</span> What?! You got it right without needing a hint or anything? Drats. Well hey, you should still continue to the next step to get some practice asking for a hint and checking solutions. (Even though you obviously don't need any help here.)"
      ],
      "text/plain": [
       "Correct: What?! You got it right without needing a hint or anything? Drats. Well hey, you should still continue to the next step to get some practice asking for a hint and checking solutions. (Even though you obviously don't need any help here.)"
      ]
     },
     "metadata": {},
     "output_type": "display_data"
    }
   ],
   "source": [
    "# create a variable called color with an appropriate value on the line below\n",
    "# (Remember, strings in Python must be enclosed in 'single' or \"double\" quotes)\n",
    "color='blue'\n",
    "# Check your answer\n",
    "q0.check()"
   ]
  },
  {
   "cell_type": "markdown",
   "id": "af21039d",
   "metadata": {
    "papermill": {
     "duration": 0.023196,
     "end_time": "2022-01-19T01:29:02.157888",
     "exception": false,
     "start_time": "2022-01-19T01:29:02.134692",
     "status": "completed"
    },
    "tags": []
   },
   "source": [
    "Didn't get the right answer? How do you not even know your own favorite color?!\n",
    "\n",
    "Delete the `#` in the line below to make one of the lines run. You can choose between getting a hint or the full answer by choosing which line to remove the `#` from. \n",
    "\n",
    "Removing the `#` is called uncommenting, because it changes that line from a \"comment\" which Python doesn't run to code, which Python does run."
   ]
  },
  {
   "cell_type": "code",
   "execution_count": 4,
   "id": "babb2180",
   "metadata": {
    "execution": {
     "iopub.execute_input": "2022-01-19T01:29:02.211032Z",
     "iopub.status.busy": "2022-01-19T01:29:02.209982Z",
     "iopub.status.idle": "2022-01-19T01:29:02.213719Z",
     "shell.execute_reply": "2022-01-19T01:29:02.214368Z"
    },
    "papermill": {
     "duration": 0.03343,
     "end_time": "2022-01-19T01:29:02.214576",
     "exception": false,
     "start_time": "2022-01-19T01:29:02.181146",
     "status": "completed"
    },
    "tags": []
   },
   "outputs": [],
   "source": [
    "#q0.hint()\n",
    "#q0.solution()"
   ]
  },
  {
   "cell_type": "markdown",
   "id": "3300db8a",
   "metadata": {
    "papermill": {
     "duration": 0.023176,
     "end_time": "2022-01-19T01:29:02.262572",
     "exception": false,
     "start_time": "2022-01-19T01:29:02.239396",
     "status": "completed"
    },
    "tags": []
   },
   "source": [
    "The upcoming questions work the same way. The only thing that will change are the question numbers. For the next question, you'll call `q1.check()`, `q1.hint()`, `q1.solution()`, for question 2, you'll call `q2.check()`, and so on."
   ]
  },
  {
   "cell_type": "markdown",
   "id": "9c9373e5",
   "metadata": {
    "papermill": {
     "duration": 0.024293,
     "end_time": "2022-01-19T01:29:02.310285",
     "exception": false,
     "start_time": "2022-01-19T01:29:02.285992",
     "status": "completed"
    },
    "tags": []
   },
   "source": [
    "<hr/>\n",
    "\n",
    "# 1.\n",
    "\n",
    "Complete the code below. In case it's helpful, here is the table of available arithmetic operations:\n",
    "\n",
    "\n",
    "\n",
    "| Operator     | Name           | Description                                            |\n",
    "|--------------|----------------|--------------------------------------------------------|\n",
    "| ``a + b``    | Addition       | Sum of ``a`` and ``b``                                 |\n",
    "| ``a - b``    | Subtraction    | Difference of ``a`` and ``b``                          |\n",
    "| ``a * b``    | Multiplication | Product of ``a`` and ``b``                             |\n",
    "| ``a / b``    | True division  | Quotient of ``a`` and ``b``                            |\n",
    "| ``a // b``   | Floor division | Quotient of ``a`` and ``b``, removing fractional parts |\n",
    "| ``a % b``    | Modulus        | Integer remainder after division of ``a`` by ``b``     |\n",
    "| ``a ** b``   | Exponentiation | ``a`` raised to the power of ``b``                     |\n",
    "| ``-a``       | Negation       | The negative of ``a``                                  |\n",
    "\n",
    "<span style=\"display:none\"></span>\n"
   ]
  },
  {
   "cell_type": "code",
   "execution_count": 5,
   "id": "e3940301",
   "metadata": {
    "execution": {
     "iopub.execute_input": "2022-01-19T01:29:02.362327Z",
     "iopub.status.busy": "2022-01-19T01:29:02.361668Z",
     "iopub.status.idle": "2022-01-19T01:29:02.369124Z",
     "shell.execute_reply": "2022-01-19T01:29:02.369726Z",
     "shell.execute_reply.started": "2022-01-19T01:18:58.477344Z"
    },
    "papermill": {
     "duration": 0.035456,
     "end_time": "2022-01-19T01:29:02.369905",
     "exception": false,
     "start_time": "2022-01-19T01:29:02.334449",
     "status": "completed"
    },
    "tags": []
   },
   "outputs": [
    {
     "data": {
      "application/javascript": [
       "parent.postMessage({\"jupyterEvent\": \"custom.exercise_interaction\", \"data\": {\"outcomeType\": 1, \"valueTowardsCompletion\": 0.25, \"interactionType\": 1, \"questionType\": 1, \"questionId\": \"1_CircleArea\", \"learnToolsVersion\": \"0.3.4\", \"failureMessage\": \"\", \"exceptionClass\": \"\", \"trace\": \"\"}}, \"*\")"
      ],
      "text/plain": [
       "<IPython.core.display.Javascript object>"
      ]
     },
     "metadata": {},
     "output_type": "display_data"
    },
    {
     "data": {
      "text/markdown": [
       "<span style=\"color:#33cc33\">Correct</span>"
      ],
      "text/plain": [
       "Correct"
      ]
     },
     "metadata": {},
     "output_type": "display_data"
    }
   ],
   "source": [
    "pi = 3.14159 # approximate\n",
    "diameter = 3\n",
    "\n",
    "# Create a variable called 'radius' equal to half the diameter\n",
    "radius = diameter/2\n",
    "\n",
    "# Create a variable called 'area', using the formula for the area of a circle: pi times the radius squared\n",
    "area = pi * radius**2\n",
    "\n",
    "# Check your answer\n",
    "q1.check()"
   ]
  },
  {
   "cell_type": "code",
   "execution_count": 6,
   "id": "abaff23f",
   "metadata": {
    "execution": {
     "iopub.execute_input": "2022-01-19T01:29:02.424075Z",
     "iopub.status.busy": "2022-01-19T01:29:02.423390Z",
     "iopub.status.idle": "2022-01-19T01:29:02.426710Z",
     "shell.execute_reply": "2022-01-19T01:29:02.427390Z"
    },
    "papermill": {
     "duration": 0.031913,
     "end_time": "2022-01-19T01:29:02.427588",
     "exception": false,
     "start_time": "2022-01-19T01:29:02.395675",
     "status": "completed"
    },
    "tags": []
   },
   "outputs": [],
   "source": [
    "# Uncomment and run the lines below if you need help.\n",
    "#q1.hint()\n",
    "#q1.solution()"
   ]
  },
  {
   "cell_type": "markdown",
   "id": "3ad14327",
   "metadata": {
    "papermill": {
     "duration": 0.025429,
     "end_time": "2022-01-19T01:29:02.478038",
     "exception": false,
     "start_time": "2022-01-19T01:29:02.452609",
     "status": "completed"
    },
    "tags": []
   },
   "source": [
    "<hr/>\n",
    "\n",
    "# 2.\n",
    "\n",
    "Add code to the following cell to swap variables `a` and `b` (so that `a` refers to the object previously referred to by `b` and vice versa)."
   ]
  },
  {
   "cell_type": "code",
   "execution_count": 7,
   "id": "8bcb9bed",
   "metadata": {
    "execution": {
     "iopub.execute_input": "2022-01-19T01:29:02.531682Z",
     "iopub.status.busy": "2022-01-19T01:29:02.530978Z",
     "iopub.status.idle": "2022-01-19T01:29:02.539057Z",
     "shell.execute_reply": "2022-01-19T01:29:02.539743Z",
     "shell.execute_reply.started": "2022-01-19T01:20:28.651791Z"
    },
    "papermill": {
     "duration": 0.036285,
     "end_time": "2022-01-19T01:29:02.539940",
     "exception": false,
     "start_time": "2022-01-19T01:29:02.503655",
     "status": "completed"
    },
    "tags": []
   },
   "outputs": [
    {
     "data": {
      "application/javascript": [
       "parent.postMessage({\"jupyterEvent\": \"custom.exercise_interaction\", \"data\": {\"outcomeType\": 1, \"valueTowardsCompletion\": 0.25, \"interactionType\": 1, \"questionType\": 2, \"questionId\": \"2_VariableSwap\", \"learnToolsVersion\": \"0.3.4\", \"failureMessage\": \"\", \"exceptionClass\": \"\", \"trace\": \"\"}}, \"*\")"
      ],
      "text/plain": [
       "<IPython.core.display.Javascript object>"
      ]
     },
     "metadata": {},
     "output_type": "display_data"
    },
    {
     "data": {
      "text/markdown": [
       "<span style=\"color:#33cc33\">Correct:</span> \n",
       "\n",
       "The most straightforward solution is to use a third variable to temporarily store one of the old values. e.g.:\n",
       "\n",
       "    tmp = a\n",
       "    a = b\n",
       "    b = tmp\n",
       "\n",
       "If you've read lots of Python code, you might have seen the following trick to swap two variables in one line:\n",
       "\n",
       "    a, b = b, a\n",
       "\n",
       "We'll demystify this bit of Python magic later when we talk about *tuples*."
      ],
      "text/plain": [
       "Correct: \n",
       "\n",
       "The most straightforward solution is to use a third variable to temporarily store one of the old values. e.g.:\n",
       "\n",
       "    tmp = a\n",
       "    a = b\n",
       "    b = tmp\n",
       "\n",
       "If you've read lots of Python code, you might have seen the following trick to swap two variables in one line:\n",
       "\n",
       "    a, b = b, a\n",
       "\n",
       "We'll demystify this bit of Python magic later when we talk about *tuples*."
      ]
     },
     "metadata": {},
     "output_type": "display_data"
    }
   ],
   "source": [
    "########### Setup code - don't touch this part ######################\n",
    "# If you're curious, these are examples of lists. We'll talk about \n",
    "# them in depth a few lessons from now. For now, just know that they're\n",
    "# yet another type of Python object, like int or float.\n",
    "a = [1, 2, 3]\n",
    "b = [3, 2, 1]\n",
    "q2.store_original_ids()\n",
    "######################################################################\n",
    "\n",
    "# Your code goes here. Swap the values to which a and b refer.\n",
    "# If you get stuck, you can always uncomment one or both of the lines in\n",
    "# the next cell for a hint, or to peek at the solution.\n",
    "\n",
    "c = b\n",
    "b = a\n",
    "a = c\n",
    "\n",
    "######################################################################\n",
    "\n",
    "# Check your answer\n",
    "q2.check()"
   ]
  },
  {
   "cell_type": "code",
   "execution_count": 8,
   "id": "ce8a2b71",
   "metadata": {
    "execution": {
     "iopub.execute_input": "2022-01-19T01:29:02.594959Z",
     "iopub.status.busy": "2022-01-19T01:29:02.594222Z",
     "iopub.status.idle": "2022-01-19T01:29:02.597576Z",
     "shell.execute_reply": "2022-01-19T01:29:02.598225Z"
    },
    "papermill": {
     "duration": 0.032688,
     "end_time": "2022-01-19T01:29:02.598410",
     "exception": false,
     "start_time": "2022-01-19T01:29:02.565722",
     "status": "completed"
    },
    "tags": []
   },
   "outputs": [],
   "source": [
    "#q2.hint()"
   ]
  },
  {
   "cell_type": "code",
   "execution_count": 9,
   "id": "ee9ec28a",
   "metadata": {
    "execution": {
     "iopub.execute_input": "2022-01-19T01:29:02.654507Z",
     "iopub.status.busy": "2022-01-19T01:29:02.653849Z",
     "iopub.status.idle": "2022-01-19T01:29:02.656987Z",
     "shell.execute_reply": "2022-01-19T01:29:02.657639Z"
    },
    "papermill": {
     "duration": 0.033036,
     "end_time": "2022-01-19T01:29:02.657815",
     "exception": false,
     "start_time": "2022-01-19T01:29:02.624779",
     "status": "completed"
    },
    "tags": []
   },
   "outputs": [],
   "source": [
    "#q2.solution()"
   ]
  },
  {
   "cell_type": "markdown",
   "id": "938dd666",
   "metadata": {
    "papermill": {
     "duration": 0.026141,
     "end_time": "2022-01-19T01:29:02.711017",
     "exception": false,
     "start_time": "2022-01-19T01:29:02.684876",
     "status": "completed"
    },
    "tags": []
   },
   "source": [
    "<hr/>\n",
    "\n",
    "# 3a.\n",
    "\n",
    "Add parentheses to the following expression so that it evaluates to 1."
   ]
  },
  {
   "cell_type": "code",
   "execution_count": 10,
   "id": "11bb7ca4",
   "metadata": {
    "execution": {
     "iopub.execute_input": "2022-01-19T01:29:02.767377Z",
     "iopub.status.busy": "2022-01-19T01:29:02.766709Z",
     "iopub.status.idle": "2022-01-19T01:29:02.771913Z",
     "shell.execute_reply": "2022-01-19T01:29:02.772470Z",
     "shell.execute_reply.started": "2022-01-19T01:20:54.225575Z"
    },
    "papermill": {
     "duration": 0.035527,
     "end_time": "2022-01-19T01:29:02.772685",
     "exception": false,
     "start_time": "2022-01-19T01:29:02.737158",
     "status": "completed"
    },
    "tags": []
   },
   "outputs": [
    {
     "data": {
      "text/plain": [
       "1"
      ]
     },
     "execution_count": 10,
     "metadata": {},
     "output_type": "execute_result"
    }
   ],
   "source": [
    "(5 - 3) // 2"
   ]
  },
  {
   "cell_type": "code",
   "execution_count": 11,
   "id": "85b54c7d",
   "metadata": {
    "execution": {
     "iopub.execute_input": "2022-01-19T01:29:02.829851Z",
     "iopub.status.busy": "2022-01-19T01:29:02.829175Z",
     "iopub.status.idle": "2022-01-19T01:29:02.832206Z",
     "shell.execute_reply": "2022-01-19T01:29:02.832802Z"
    },
    "papermill": {
     "duration": 0.033282,
     "end_time": "2022-01-19T01:29:02.832978",
     "exception": false,
     "start_time": "2022-01-19T01:29:02.799696",
     "status": "completed"
    },
    "tags": []
   },
   "outputs": [],
   "source": [
    "#q3.a.hint()"
   ]
  },
  {
   "cell_type": "code",
   "execution_count": 12,
   "id": "ba82633e",
   "metadata": {
    "execution": {
     "iopub.execute_input": "2022-01-19T01:29:02.889462Z",
     "iopub.status.busy": "2022-01-19T01:29:02.888789Z",
     "iopub.status.idle": "2022-01-19T01:29:02.896113Z",
     "shell.execute_reply": "2022-01-19T01:29:02.896808Z",
     "shell.execute_reply.started": "2022-01-19T01:20:58.388204Z"
    },
    "papermill": {
     "duration": 0.037253,
     "end_time": "2022-01-19T01:29:02.896993",
     "exception": false,
     "start_time": "2022-01-19T01:29:02.859740",
     "status": "completed"
    },
    "tags": []
   },
   "outputs": [
    {
     "data": {
      "application/javascript": [
       "parent.postMessage({\"jupyterEvent\": \"custom.exercise_interaction\", \"data\": {\"interactionType\": 3, \"questionType\": 4, \"questionId\": \"3.1_ArithmeticParensEasy\", \"learnToolsVersion\": \"0.3.4\", \"valueTowardsCompletion\": 0.0, \"failureMessage\": \"\", \"exceptionClass\": \"\", \"trace\": \"\", \"outcomeType\": 4}}, \"*\")"
      ],
      "text/plain": [
       "<IPython.core.display.Javascript object>"
      ]
     },
     "metadata": {},
     "output_type": "display_data"
    },
    {
     "data": {
      "text/markdown": [
       "<span style=\"color:#33cc99\">Solution:</span> \n",
       "```python\n",
       "(5 - 3) // 2\n",
       "```"
      ],
      "text/plain": [
       "Solution: \n",
       "```python\n",
       "(5 - 3) // 2\n",
       "```"
      ]
     },
     "metadata": {},
     "output_type": "display_data"
    }
   ],
   "source": [
    "# Check your answer (Run this code cell to receive credit!)\n",
    "q3.a.solution()"
   ]
  },
  {
   "cell_type": "markdown",
   "id": "3f31847f",
   "metadata": {
    "papermill": {
     "duration": 0.027334,
     "end_time": "2022-01-19T01:29:02.952262",
     "exception": false,
     "start_time": "2022-01-19T01:29:02.924928",
     "status": "completed"
    },
    "tags": []
   },
   "source": [
    "# 3b.  <span title=\"A bit spicy\" style=\"color: darkgreen \">🌶️</span>\n",
    "\n",
    "<small>Questions, like this one, marked a spicy pepper are a bit harder.</small>\n",
    "\n",
    "Add parentheses to the following expression so that it evaluates to 0."
   ]
  },
  {
   "cell_type": "code",
   "execution_count": 13,
   "id": "df3ec866",
   "metadata": {
    "execution": {
     "iopub.execute_input": "2022-01-19T01:29:03.029925Z",
     "iopub.status.busy": "2022-01-19T01:29:03.028902Z",
     "iopub.status.idle": "2022-01-19T01:29:03.032762Z",
     "shell.execute_reply": "2022-01-19T01:29:03.033586Z",
     "shell.execute_reply.started": "2022-01-19T01:24:16.346955Z"
    },
    "papermill": {
     "duration": 0.046454,
     "end_time": "2022-01-19T01:29:03.033848",
     "exception": false,
     "start_time": "2022-01-19T01:29:02.987394",
     "status": "completed"
    },
    "tags": []
   },
   "outputs": [
    {
     "data": {
      "text/plain": [
       "0"
      ]
     },
     "execution_count": 13,
     "metadata": {},
     "output_type": "execute_result"
    }
   ],
   "source": [
    "8 - 3 * 2 - (1 + 1)"
   ]
  },
  {
   "cell_type": "code",
   "execution_count": 14,
   "id": "4b180373",
   "metadata": {
    "execution": {
     "iopub.execute_input": "2022-01-19T01:29:03.111582Z",
     "iopub.status.busy": "2022-01-19T01:29:03.110856Z",
     "iopub.status.idle": "2022-01-19T01:29:03.115138Z",
     "shell.execute_reply": "2022-01-19T01:29:03.115901Z"
    },
    "papermill": {
     "duration": 0.0489,
     "end_time": "2022-01-19T01:29:03.116088",
     "exception": false,
     "start_time": "2022-01-19T01:29:03.067188",
     "status": "completed"
    },
    "tags": []
   },
   "outputs": [],
   "source": [
    "#q3.b.hint()"
   ]
  },
  {
   "cell_type": "code",
   "execution_count": 15,
   "id": "9b02a9a6",
   "metadata": {
    "execution": {
     "iopub.execute_input": "2022-01-19T01:29:03.180662Z",
     "iopub.status.busy": "2022-01-19T01:29:03.179610Z",
     "iopub.status.idle": "2022-01-19T01:29:03.189259Z",
     "shell.execute_reply": "2022-01-19T01:29:03.189964Z",
     "shell.execute_reply.started": "2022-01-19T01:23:49.156022Z"
    },
    "papermill": {
     "duration": 0.043506,
     "end_time": "2022-01-19T01:29:03.190168",
     "exception": false,
     "start_time": "2022-01-19T01:29:03.146662",
     "status": "completed"
    },
    "tags": []
   },
   "outputs": [
    {
     "data": {
      "application/javascript": [
       "parent.postMessage({\"jupyterEvent\": \"custom.exercise_interaction\", \"data\": {\"interactionType\": 3, \"questionType\": 4, \"questionId\": \"3.2_ArithmeticParensHard\", \"learnToolsVersion\": \"0.3.4\", \"valueTowardsCompletion\": 0.0, \"failureMessage\": \"\", \"exceptionClass\": \"\", \"trace\": \"\", \"outcomeType\": 4}}, \"*\")"
      ],
      "text/plain": [
       "<IPython.core.display.Javascript object>"
      ]
     },
     "metadata": {},
     "output_type": "display_data"
    },
    {
     "data": {
      "text/markdown": [
       "<span style=\"color:#33cc99\">Solution:</span> `(8 - 3) * (2 - (1 + 1))` is one solution. There may be others."
      ],
      "text/plain": [
       "Solution: `(8 - 3) * (2 - (1 + 1))` is one solution. There may be others."
      ]
     },
     "metadata": {},
     "output_type": "display_data"
    }
   ],
   "source": [
    "# Check your answer (Run this code cell to receive credit!)\n",
    "q3.b.solution()"
   ]
  },
  {
   "cell_type": "markdown",
   "id": "a0f788d8",
   "metadata": {
    "papermill": {
     "duration": 0.03041,
     "end_time": "2022-01-19T01:29:03.256854",
     "exception": false,
     "start_time": "2022-01-19T01:29:03.226444",
     "status": "completed"
    },
    "tags": []
   },
   "source": [
    "<hr/>\n",
    "\n",
    "# 4. \n",
    "Alice, Bob and Carol have agreed to pool their Halloween candy and split it evenly among themselves.\n",
    "For the sake of their friendship, any candies left over will be smashed. For example, if they collectively\n",
    "bring home 91 candies, they'll take 30 each and smash 1.\n",
    "\n",
    "Write an arithmetic expression below to calculate how many candies they must smash for a given haul."
   ]
  },
  {
   "cell_type": "code",
   "execution_count": 16,
   "id": "8bb8278a",
   "metadata": {
    "execution": {
     "iopub.execute_input": "2022-01-19T01:29:03.333061Z",
     "iopub.status.busy": "2022-01-19T01:29:03.332005Z",
     "iopub.status.idle": "2022-01-19T01:29:03.337652Z",
     "shell.execute_reply": "2022-01-19T01:29:03.338447Z",
     "shell.execute_reply.started": "2022-01-19T01:28:02.659311Z"
    },
    "papermill": {
     "duration": 0.051873,
     "end_time": "2022-01-19T01:29:03.338724",
     "exception": false,
     "start_time": "2022-01-19T01:29:03.286851",
     "status": "completed"
    },
    "tags": []
   },
   "outputs": [
    {
     "data": {
      "application/javascript": [
       "parent.postMessage({\"jupyterEvent\": \"custom.exercise_interaction\", \"data\": {\"outcomeType\": 1, \"valueTowardsCompletion\": 0.25, \"interactionType\": 1, \"questionType\": 1, \"questionId\": \"4_CandySplitting\", \"learnToolsVersion\": \"0.3.4\", \"failureMessage\": \"\", \"exceptionClass\": \"\", \"trace\": \"\"}}, \"*\")"
      ],
      "text/plain": [
       "<IPython.core.display.Javascript object>"
      ]
     },
     "metadata": {},
     "output_type": "display_data"
    },
    {
     "data": {
      "text/markdown": [
       "<span style=\"color:#33cc33\">Correct</span>"
      ],
      "text/plain": [
       "Correct"
      ]
     },
     "metadata": {},
     "output_type": "display_data"
    }
   ],
   "source": [
    "# Variables representing the number of candies collected by alice, bob, and carol\n",
    "alice_candies = 121\n",
    "bob_candies = 77\n",
    "carol_candies = 109\n",
    "\n",
    "# Your code goes here! Replace the right-hand side of this assignment with an expression\n",
    "# involving alice_candies, bob_candies, and carol_candies\n",
    "to_smash = (alice_candies + bob_candies + carol_candies) - 3 * ((alice_candies + bob_candies + carol_candies)//3)\n",
    "to_smash\n",
    "# Check your answer\n",
    "q4.check()"
   ]
  },
  {
   "cell_type": "code",
   "execution_count": 17,
   "id": "40d56b1c",
   "metadata": {
    "execution": {
     "iopub.execute_input": "2022-01-19T01:29:03.419886Z",
     "iopub.status.busy": "2022-01-19T01:29:03.418782Z",
     "iopub.status.idle": "2022-01-19T01:29:03.422810Z",
     "shell.execute_reply": "2022-01-19T01:29:03.423516Z"
    },
    "papermill": {
     "duration": 0.042059,
     "end_time": "2022-01-19T01:29:03.423763",
     "exception": false,
     "start_time": "2022-01-19T01:29:03.381704",
     "status": "completed"
    },
    "tags": []
   },
   "outputs": [],
   "source": [
    "#q4.hint()\n",
    "#q4.solution()"
   ]
  },
  {
   "cell_type": "markdown",
   "id": "6efd7748",
   "metadata": {
    "papermill": {
     "duration": 0.030802,
     "end_time": "2022-01-19T01:29:03.487482",
     "exception": false,
     "start_time": "2022-01-19T01:29:03.456680",
     "status": "completed"
    },
    "tags": []
   },
   "source": [
    "# Keep Going\n",
    "\n",
    "Next up, you'll **[learn to write new functions and understand functions others write](https://www.kaggle.com/colinmorris/functions-and-getting-help)**. This will make you at least 10 times more productive as a Python programmer. "
   ]
  },
  {
   "cell_type": "markdown",
   "id": "ca701ded",
   "metadata": {
    "papermill": {
     "duration": 0.031934,
     "end_time": "2022-01-19T01:29:03.552617",
     "exception": false,
     "start_time": "2022-01-19T01:29:03.520683",
     "status": "completed"
    },
    "tags": []
   },
   "source": [
    "---\n",
    "\n",
    "\n",
    "\n",
    "\n",
    "*Have questions or comments? Visit the [course discussion forum](https://www.kaggle.com/learn/python/discussion) to chat with other learners.*"
   ]
  }
 ],
 "metadata": {
  "kernelspec": {
   "display_name": "Python 3",
   "language": "python",
   "name": "python3"
  },
  "language_info": {
   "codemirror_mode": {
    "name": "ipython",
    "version": 3
   },
   "file_extension": ".py",
   "mimetype": "text/x-python",
   "name": "python",
   "nbconvert_exporter": "python",
   "pygments_lexer": "ipython3",
   "version": "3.7.12"
  },
  "papermill": {
   "default_parameters": {},
   "duration": 12.600956,
   "end_time": "2022-01-19T01:29:04.196083",
   "environment_variables": {},
   "exception": null,
   "input_path": "__notebook__.ipynb",
   "output_path": "__notebook__.ipynb",
   "parameters": {},
   "start_time": "2022-01-19T01:28:51.595127",
   "version": "2.3.3"
  }
 },
 "nbformat": 4,
 "nbformat_minor": 5
}
