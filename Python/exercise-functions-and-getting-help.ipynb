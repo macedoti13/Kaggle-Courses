{
 "cells": [
  {
   "cell_type": "markdown",
   "id": "ca9495f0",
   "metadata": {
    "papermill": {
     "duration": 0.014854,
     "end_time": "2022-01-19T01:43:22.426878",
     "exception": false,
     "start_time": "2022-01-19T01:43:22.412024",
     "status": "completed"
    },
    "tags": []
   },
   "source": [
    "**This notebook is an exercise in the [Python](https://www.kaggle.com/learn/python) course.  You can reference the tutorial at [this link](https://www.kaggle.com/colinmorris/functions-and-getting-help).**\n",
    "\n",
    "---\n"
   ]
  },
  {
   "cell_type": "markdown",
   "id": "bfccc1f6",
   "metadata": {
    "papermill": {
     "duration": 0.014118,
     "end_time": "2022-01-19T01:43:22.455269",
     "exception": false,
     "start_time": "2022-01-19T01:43:22.441151",
     "status": "completed"
    },
    "tags": []
   },
   "source": [
    "Functions are powerful. Try writing some yourself.\n",
    "\n",
    "As before, don't forget to run the setup code below before jumping into question 1."
   ]
  },
  {
   "cell_type": "code",
   "execution_count": 1,
   "id": "c72806bb",
   "metadata": {
    "_kg_hide-input": true,
    "_kg_hide-output": true,
    "execution": {
     "iopub.execute_input": "2022-01-19T01:43:22.486917Z",
     "iopub.status.busy": "2022-01-19T01:43:22.485725Z",
     "iopub.status.idle": "2022-01-19T01:43:22.527416Z",
     "shell.execute_reply": "2022-01-19T01:43:22.528083Z",
     "shell.execute_reply.started": "2022-01-19T01:31:16.657881Z"
    },
    "papermill": {
     "duration": 0.05939,
     "end_time": "2022-01-19T01:43:22.528431",
     "exception": false,
     "start_time": "2022-01-19T01:43:22.469041",
     "status": "completed"
    },
    "tags": []
   },
   "outputs": [
    {
     "name": "stdout",
     "output_type": "stream",
     "text": [
      "Setup complete.\n"
     ]
    }
   ],
   "source": [
    "# SETUP. You don't need to worry for now about what this code does or how it works.\n",
    "from learntools.core import binder; binder.bind(globals())\n",
    "from learntools.python.ex2 import *\n",
    "print('Setup complete.')"
   ]
  },
  {
   "cell_type": "markdown",
   "id": "83b96818",
   "metadata": {
    "papermill": {
     "duration": 0.013909,
     "end_time": "2022-01-19T01:43:22.556960",
     "exception": false,
     "start_time": "2022-01-19T01:43:22.543051",
     "status": "completed"
    },
    "tags": []
   },
   "source": [
    "# 1.\n",
    "\n",
    "Complete the body of the following function according to its docstring.\n",
    "\n",
    "HINT: Python has a built-in function `round`."
   ]
  },
  {
   "cell_type": "code",
   "execution_count": 2,
   "id": "9e5d44b7",
   "metadata": {
    "execution": {
     "iopub.execute_input": "2022-01-19T01:43:22.588505Z",
     "iopub.status.busy": "2022-01-19T01:43:22.587806Z",
     "iopub.status.idle": "2022-01-19T01:43:22.597400Z",
     "shell.execute_reply": "2022-01-19T01:43:22.598016Z",
     "shell.execute_reply.started": "2022-01-19T01:31:52.884637Z"
    },
    "papermill": {
     "duration": 0.026935,
     "end_time": "2022-01-19T01:43:22.598188",
     "exception": false,
     "start_time": "2022-01-19T01:43:22.571253",
     "status": "completed"
    },
    "tags": []
   },
   "outputs": [
    {
     "data": {
      "application/javascript": [
       "parent.postMessage({\"jupyterEvent\": \"custom.exercise_interaction\", \"data\": {\"outcomeType\": 1, \"valueTowardsCompletion\": 0.16666666666666666, \"interactionType\": 1, \"questionType\": 2, \"questionId\": \"1_RoundFunctionProblem\", \"learnToolsVersion\": \"0.3.4\", \"failureMessage\": \"\", \"exceptionClass\": \"\", \"trace\": \"\"}}, \"*\")"
      ],
      "text/plain": [
       "<IPython.core.display.Javascript object>"
      ]
     },
     "metadata": {},
     "output_type": "display_data"
    },
    {
     "data": {
      "text/markdown": [
       "<span style=\"color:#33cc33\">Correct</span>"
      ],
      "text/plain": [
       "Correct"
      ]
     },
     "metadata": {},
     "output_type": "display_data"
    }
   ],
   "source": [
    "def round_to_two_places(num):\n",
    "    \"\"\"Return the given number rounded to two decimal places. \n",
    "    \n",
    "    >>> round_to_two_places(3.14159)\n",
    "    3.14\n",
    "    \"\"\"\n",
    "    # Replace this body with your own code.\n",
    "    # (\"pass\" is a keyword that does literally nothing. We used it as a placeholder\n",
    "    # because after we begin a code block, Python requires at least one line of code)\n",
    "    return round(num, 2)\n",
    "\n",
    "# Check your answer\n",
    "q1.check()"
   ]
  },
  {
   "cell_type": "code",
   "execution_count": 3,
   "id": "b6b163f4",
   "metadata": {
    "execution": {
     "iopub.execute_input": "2022-01-19T01:43:22.631821Z",
     "iopub.status.busy": "2022-01-19T01:43:22.631169Z",
     "iopub.status.idle": "2022-01-19T01:43:22.633943Z",
     "shell.execute_reply": "2022-01-19T01:43:22.634809Z"
    },
    "papermill": {
     "duration": 0.021777,
     "end_time": "2022-01-19T01:43:22.635017",
     "exception": false,
     "start_time": "2022-01-19T01:43:22.613240",
     "status": "completed"
    },
    "tags": []
   },
   "outputs": [],
   "source": [
    "# Uncomment the following for a hint\n",
    "#q1.hint()\n",
    "# Or uncomment the following to peek at the solution\n",
    "#q1.solution()"
   ]
  },
  {
   "cell_type": "markdown",
   "id": "bfc552ff",
   "metadata": {
    "papermill": {
     "duration": 0.015437,
     "end_time": "2022-01-19T01:43:22.665723",
     "exception": false,
     "start_time": "2022-01-19T01:43:22.650286",
     "status": "completed"
    },
    "tags": []
   },
   "source": [
    "# 2.\n",
    "The help for `round` says that `ndigits` (the second argument) may be negative.\n",
    "What do you think will happen when it is? Try some examples in the following cell."
   ]
  },
  {
   "cell_type": "code",
   "execution_count": 4,
   "id": "2d7a5e7d",
   "metadata": {
    "execution": {
     "iopub.execute_input": "2022-01-19T01:43:22.700163Z",
     "iopub.status.busy": "2022-01-19T01:43:22.699435Z",
     "iopub.status.idle": "2022-01-19T01:43:22.704194Z",
     "shell.execute_reply": "2022-01-19T01:43:22.704827Z",
     "shell.execute_reply.started": "2022-01-19T01:35:14.396903Z"
    },
    "papermill": {
     "duration": 0.024164,
     "end_time": "2022-01-19T01:43:22.705020",
     "exception": false,
     "start_time": "2022-01-19T01:43:22.680856",
     "status": "completed"
    },
    "tags": []
   },
   "outputs": [
    {
     "data": {
      "text/plain": [
       "20000.0"
      ]
     },
     "execution_count": 4,
     "metadata": {},
     "output_type": "execute_result"
    }
   ],
   "source": [
    "# Put your test code here\n",
    "round(22240.1789232, -4)"
   ]
  },
  {
   "cell_type": "markdown",
   "id": "2a118afe",
   "metadata": {
    "papermill": {
     "duration": 0.015339,
     "end_time": "2022-01-19T01:43:22.735847",
     "exception": false,
     "start_time": "2022-01-19T01:43:22.720508",
     "status": "completed"
    },
    "tags": []
   },
   "source": [
    "Can you think of a case where this would be useful?  Once you're ready, run the code cell below to see the answer and to receive credit for completing the problem."
   ]
  },
  {
   "cell_type": "code",
   "execution_count": 5,
   "id": "1e5b6c2f",
   "metadata": {
    "execution": {
     "iopub.execute_input": "2022-01-19T01:43:22.770399Z",
     "iopub.status.busy": "2022-01-19T01:43:22.769674Z",
     "iopub.status.idle": "2022-01-19T01:43:22.774907Z",
     "shell.execute_reply": "2022-01-19T01:43:22.775445Z",
     "shell.execute_reply.started": "2022-01-19T01:34:21.507873Z"
    },
    "papermill": {
     "duration": 0.024279,
     "end_time": "2022-01-19T01:43:22.775641",
     "exception": false,
     "start_time": "2022-01-19T01:43:22.751362",
     "status": "completed"
    },
    "tags": []
   },
   "outputs": [
    {
     "data": {
      "application/javascript": [
       "parent.postMessage({\"jupyterEvent\": \"custom.exercise_interaction\", \"data\": {\"interactionType\": 3, \"questionType\": 4, \"questionId\": \"2_RoundNdigitsProblem\", \"learnToolsVersion\": \"0.3.4\", \"valueTowardsCompletion\": 0.0, \"failureMessage\": \"\", \"exceptionClass\": \"\", \"trace\": \"\", \"outcomeType\": 4}}, \"*\")"
      ],
      "text/plain": [
       "<IPython.core.display.Javascript object>"
      ]
     },
     "metadata": {},
     "output_type": "display_data"
    },
    {
     "data": {
      "text/markdown": [
       "<span style=\"color:#33cc99\">Solution:</span> As you've seen, `ndigits=-1` rounds to the nearest 10, `ndigits=-2` rounds to the nearest 100 and so on. Where might this be useful? Suppose we're dealing with large numbers:\n",
       "\n",
       "> The area of Finland is 338,424 km²  \n",
       "> The area of Greenland is 2,166,086 km²\n",
       "\n",
       "We probably don't care whether it's really 338,424, or 338,425, or 338,177. All those digits of accuracy are just distracting. We can chop them off by calling `round()` with `ndigits=-3`:\n",
       "\n",
       "> The area of Finland is 338,000 km²  \n",
       "> The area of Greenland is 2,166,000 km²\n",
       "\n",
       "(We'll talk about how we would get the commas later when we talk about string formatting :))\n"
      ],
      "text/plain": [
       "Solution: As you've seen, `ndigits=-1` rounds to the nearest 10, `ndigits=-2` rounds to the nearest 100 and so on. Where might this be useful? Suppose we're dealing with large numbers:\n",
       "\n",
       "> The area of Finland is 338,424 km²  \n",
       "> The area of Greenland is 2,166,086 km²\n",
       "\n",
       "We probably don't care whether it's really 338,424, or 338,425, or 338,177. All those digits of accuracy are just distracting. We can chop them off by calling `round()` with `ndigits=-3`:\n",
       "\n",
       "> The area of Finland is 338,000 km²  \n",
       "> The area of Greenland is 2,166,000 km²\n",
       "\n",
       "(We'll talk about how we would get the commas later when we talk about string formatting :))"
      ]
     },
     "metadata": {},
     "output_type": "display_data"
    }
   ],
   "source": [
    "# Check your answer (Run this code cell to receive credit!)\n",
    "q2.solution()"
   ]
  },
  {
   "cell_type": "markdown",
   "id": "ba30f23d",
   "metadata": {
    "papermill": {
     "duration": 0.017962,
     "end_time": "2022-01-19T01:43:22.810601",
     "exception": false,
     "start_time": "2022-01-19T01:43:22.792639",
     "status": "completed"
    },
    "tags": []
   },
   "source": [
    "# 3.\n",
    "\n",
    "In the previous exercise, the candy-sharing friends Alice, Bob and Carol tried to split candies evenly. For the sake of their friendship, any candies left over would be smashed. For example, if they collectively bring home 91 candies, they'll take 30 each and smash 1.\n",
    "\n",
    "Below is a simple function that will calculate the number of candies to smash for *any* number of total candies.\n",
    "\n",
    "Modify it so that it optionally takes a second argument representing the number of friends the candies are being split between. If no second argument is provided, it should assume 3 friends, as before.\n",
    "\n",
    "Update the docstring to reflect this new behaviour."
   ]
  },
  {
   "cell_type": "code",
   "execution_count": 6,
   "id": "801cc603",
   "metadata": {
    "execution": {
     "iopub.execute_input": "2022-01-19T01:43:22.847609Z",
     "iopub.status.busy": "2022-01-19T01:43:22.846862Z",
     "iopub.status.idle": "2022-01-19T01:43:22.852784Z",
     "shell.execute_reply": "2022-01-19T01:43:22.853328Z",
     "shell.execute_reply.started": "2022-01-19T01:38:54.166787Z"
    },
    "papermill": {
     "duration": 0.026278,
     "end_time": "2022-01-19T01:43:22.853500",
     "exception": false,
     "start_time": "2022-01-19T01:43:22.827222",
     "status": "completed"
    },
    "tags": []
   },
   "outputs": [
    {
     "data": {
      "application/javascript": [
       "parent.postMessage({\"jupyterEvent\": \"custom.exercise_interaction\", \"data\": {\"outcomeType\": 1, \"valueTowardsCompletion\": 0.16666666666666666, \"interactionType\": 1, \"questionType\": 2, \"questionId\": \"3_CandySmashingFunctionProblem\", \"learnToolsVersion\": \"0.3.4\", \"failureMessage\": \"\", \"exceptionClass\": \"\", \"trace\": \"\"}}, \"*\")"
      ],
      "text/plain": [
       "<IPython.core.display.Javascript object>"
      ]
     },
     "metadata": {},
     "output_type": "display_data"
    },
    {
     "data": {
      "text/markdown": [
       "<span style=\"color:#33cc33\">Correct</span>"
      ],
      "text/plain": [
       "Correct"
      ]
     },
     "metadata": {},
     "output_type": "display_data"
    }
   ],
   "source": [
    "def to_smash(total_candies, number_of_friends=3):\n",
    "    \"\"\"Return the number of leftover candies that must be smashed after distributing\n",
    "    the given number of candies evenly between 3 friends.\n",
    "    \n",
    "    >>> to_smash(91)\n",
    "    1\n",
    "    \"\"\"\n",
    "    return total_candies % number_of_friends\n",
    "\n",
    "# Check your answer\n",
    "q3.check()"
   ]
  },
  {
   "cell_type": "code",
   "execution_count": 7,
   "id": "e1dc46a6",
   "metadata": {
    "execution": {
     "iopub.execute_input": "2022-01-19T01:43:22.894266Z",
     "iopub.status.busy": "2022-01-19T01:43:22.893225Z",
     "iopub.status.idle": "2022-01-19T01:43:22.896248Z",
     "shell.execute_reply": "2022-01-19T01:43:22.895669Z"
    },
    "papermill": {
     "duration": 0.02525,
     "end_time": "2022-01-19T01:43:22.896402",
     "exception": false,
     "start_time": "2022-01-19T01:43:22.871152",
     "status": "completed"
    },
    "tags": []
   },
   "outputs": [],
   "source": [
    "#q3.hint()"
   ]
  },
  {
   "cell_type": "code",
   "execution_count": 8,
   "id": "a72e6b54",
   "metadata": {
    "execution": {
     "iopub.execute_input": "2022-01-19T01:43:22.935626Z",
     "iopub.status.busy": "2022-01-19T01:43:22.934687Z",
     "iopub.status.idle": "2022-01-19T01:43:22.939065Z",
     "shell.execute_reply": "2022-01-19T01:43:22.938469Z"
    },
    "papermill": {
     "duration": 0.025009,
     "end_time": "2022-01-19T01:43:22.939220",
     "exception": false,
     "start_time": "2022-01-19T01:43:22.914211",
     "status": "completed"
    },
    "tags": []
   },
   "outputs": [],
   "source": [
    "#q3.solution()"
   ]
  },
  {
   "cell_type": "markdown",
   "id": "dd0ba641",
   "metadata": {
    "papermill": {
     "duration": 0.018848,
     "end_time": "2022-01-19T01:43:22.978798",
     "exception": false,
     "start_time": "2022-01-19T01:43:22.959950",
     "status": "completed"
    },
    "tags": []
   },
   "source": [
    "# 4. (Optional)\n",
    "\n",
    "It may not be fun, but reading and understanding error messages will be an important part of your Python career.\n",
    "\n",
    "Each code cell below contains some commented buggy code. For each cell...\n",
    "\n",
    "1. Read the code and predict what you think will happen when it's run.\n",
    "2. Then uncomment the code and run it to see what happens. (**Tip**: In the kernel editor, you can highlight several lines and press `ctrl`+`/` to toggle commenting.)\n",
    "3. Fix the code (so that it accomplishes its intended purpose without throwing an exception)\n",
    "\n",
    "<!-- TODO: should this be autochecked? Delta is probably pretty small. -->"
   ]
  },
  {
   "cell_type": "code",
   "execution_count": 9,
   "id": "13c35671",
   "metadata": {
    "execution": {
     "iopub.execute_input": "2022-01-19T01:43:23.019788Z",
     "iopub.status.busy": "2022-01-19T01:43:23.018743Z",
     "iopub.status.idle": "2022-01-19T01:43:23.024102Z",
     "shell.execute_reply": "2022-01-19T01:43:23.024600Z",
     "shell.execute_reply.started": "2022-01-19T01:40:46.921661Z"
    },
    "papermill": {
     "duration": 0.027271,
     "end_time": "2022-01-19T01:43:23.024771",
     "exception": false,
     "start_time": "2022-01-19T01:43:22.997500",
     "status": "completed"
    },
    "tags": []
   },
   "outputs": [
    {
     "data": {
      "text/plain": [
       "10.0"
      ]
     },
     "execution_count": 9,
     "metadata": {},
     "output_type": "execute_result"
    }
   ],
   "source": [
    "# Function name error\n",
    "round_to_two_places(9.9999)"
   ]
  },
  {
   "cell_type": "code",
   "execution_count": 10,
   "id": "8f2a57a0",
   "metadata": {
    "execution": {
     "iopub.execute_input": "2022-01-19T01:43:23.066222Z",
     "iopub.status.busy": "2022-01-19T01:43:23.065159Z",
     "iopub.status.idle": "2022-01-19T01:43:23.071334Z",
     "shell.execute_reply": "2022-01-19T01:43:23.071797Z",
     "shell.execute_reply.started": "2022-01-19T01:41:50.839856Z"
    },
    "papermill": {
     "duration": 0.028633,
     "end_time": "2022-01-19T01:43:23.071988",
     "exception": false,
     "start_time": "2022-01-19T01:43:23.043355",
     "status": "completed"
    },
    "tags": []
   },
   "outputs": [
    {
     "data": {
      "text/plain": [
       "5"
      ]
     },
     "execution_count": 10,
     "metadata": {},
     "output_type": "execute_result"
    }
   ],
   "source": [
    "x = -10\n",
    "y = 5\n",
    "# Which of the two variables above has the smallest absolute value?\n",
    "smallest_abs = min(abs(x), abs(y))\n",
    "smallest_abs"
   ]
  },
  {
   "cell_type": "code",
   "execution_count": 11,
   "id": "8d4a3aaf",
   "metadata": {
    "execution": {
     "iopub.execute_input": "2022-01-19T01:43:23.114241Z",
     "iopub.status.busy": "2022-01-19T01:43:23.113224Z",
     "iopub.status.idle": "2022-01-19T01:43:23.119073Z",
     "shell.execute_reply": "2022-01-19T01:43:23.119944Z",
     "shell.execute_reply.started": "2022-01-19T01:42:40.590868Z"
    },
    "papermill": {
     "duration": 0.02893,
     "end_time": "2022-01-19T01:43:23.120192",
     "exception": false,
     "start_time": "2022-01-19T01:43:23.091262",
     "status": "completed"
    },
    "tags": []
   },
   "outputs": [
    {
     "name": "stdout",
     "output_type": "stream",
     "text": [
      "5\n"
     ]
    }
   ],
   "source": [
    "def f(x):\n",
    "    y = abs(x)\n",
    "    return y\n",
    "\n",
    "print(f(5))"
   ]
  },
  {
   "cell_type": "markdown",
   "id": "ef5e69af",
   "metadata": {
    "papermill": {
     "duration": 0.018542,
     "end_time": "2022-01-19T01:43:23.158799",
     "exception": false,
     "start_time": "2022-01-19T01:43:23.140257",
     "status": "completed"
    },
    "tags": []
   },
   "source": [
    "# Keep Going\n",
    "\n",
    "Nice job with the code. Next up, you'll learn about *conditionals*, which you'll need to **[write interesting programs](https://www.kaggle.com/colinmorris/booleans-and-conditionals)**. "
   ]
  },
  {
   "cell_type": "markdown",
   "id": "7ff5315b",
   "metadata": {
    "papermill": {
     "duration": 0.019414,
     "end_time": "2022-01-19T01:43:23.201026",
     "exception": false,
     "start_time": "2022-01-19T01:43:23.181612",
     "status": "completed"
    },
    "tags": []
   },
   "source": [
    "---\n",
    "\n",
    "\n",
    "\n",
    "\n",
    "*Have questions or comments? Visit the [course discussion forum](https://www.kaggle.com/learn/python/discussion) to chat with other learners.*"
   ]
  }
 ],
 "metadata": {
  "kernelspec": {
   "display_name": "Python 3",
   "language": "python",
   "name": "python3"
  },
  "language_info": {
   "codemirror_mode": {
    "name": "ipython",
    "version": 3
   },
   "file_extension": ".py",
   "mimetype": "text/x-python",
   "name": "python",
   "nbconvert_exporter": "python",
   "pygments_lexer": "ipython3",
   "version": "3.7.12"
  },
  "papermill": {
   "default_parameters": {},
   "duration": 12.166145,
   "end_time": "2022-01-19T01:43:23.829526",
   "environment_variables": {},
   "exception": null,
   "input_path": "__notebook__.ipynb",
   "output_path": "__notebook__.ipynb",
   "parameters": {},
   "start_time": "2022-01-19T01:43:11.663381",
   "version": "2.3.3"
  }
 },
 "nbformat": 4,
 "nbformat_minor": 5
}
