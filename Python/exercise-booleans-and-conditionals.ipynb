{
 "cells": [
  {
   "cell_type": "markdown",
   "id": "e33f0cb8",
   "metadata": {
    "papermill": {
     "duration": 0.03043,
     "end_time": "2022-01-19T02:44:19.909357",
     "exception": false,
     "start_time": "2022-01-19T02:44:19.878927",
     "status": "completed"
    },
    "tags": []
   },
   "source": [
    "**This notebook is an exercise in the [Python](https://www.kaggle.com/learn/python) course.  You can reference the tutorial at [this link](https://www.kaggle.com/colinmorris/booleans-and-conditionals).**\n",
    "\n",
    "---\n"
   ]
  },
  {
   "cell_type": "markdown",
   "id": "3aaf8e59",
   "metadata": {
    "papermill": {
     "duration": 0.028591,
     "end_time": "2022-01-19T02:44:19.967313",
     "exception": false,
     "start_time": "2022-01-19T02:44:19.938722",
     "status": "completed"
    },
    "tags": []
   },
   "source": [
    "In this exercise, you'll put to work what you have learned about booleans and conditionals.\n",
    "\n",
    "To get started, **run the setup code below** before writing your own code (and if you leave this notebook and come back later, don't forget to run the setup code again)."
   ]
  },
  {
   "cell_type": "code",
   "execution_count": 1,
   "id": "0d585cc5",
   "metadata": {
    "execution": {
     "iopub.execute_input": "2022-01-19T02:44:20.030340Z",
     "iopub.status.busy": "2022-01-19T02:44:20.029090Z",
     "iopub.status.idle": "2022-01-19T02:44:20.078075Z",
     "shell.execute_reply": "2022-01-19T02:44:20.078703Z",
     "shell.execute_reply.started": "2022-01-19T01:45:07.083504Z"
    },
    "papermill": {
     "duration": 0.082101,
     "end_time": "2022-01-19T02:44:20.079103",
     "exception": false,
     "start_time": "2022-01-19T02:44:19.997002",
     "status": "completed"
    },
    "tags": []
   },
   "outputs": [
    {
     "name": "stdout",
     "output_type": "stream",
     "text": [
      "Setup complete.\n"
     ]
    }
   ],
   "source": [
    "from learntools.core import binder; binder.bind(globals())\n",
    "from learntools.python.ex3 import *\n",
    "print('Setup complete.')"
   ]
  },
  {
   "cell_type": "markdown",
   "id": "d94f02a0",
   "metadata": {
    "papermill": {
     "duration": 0.02911,
     "end_time": "2022-01-19T02:44:20.139434",
     "exception": false,
     "start_time": "2022-01-19T02:44:20.110324",
     "status": "completed"
    },
    "tags": []
   },
   "source": [
    "# 1.\n",
    "\n",
    "Many programming languages have [`sign`](https://en.wikipedia.org/wiki/Sign_function) available as a built-in function. Python doesn't, but we can define our own!\n",
    "\n",
    "In the cell below, define a function called `sign` which takes a numerical argument and returns -1 if it's negative, 1 if it's positive, and 0 if it's 0."
   ]
  },
  {
   "cell_type": "code",
   "execution_count": 2,
   "id": "78072817",
   "metadata": {
    "execution": {
     "iopub.execute_input": "2022-01-19T02:44:20.201767Z",
     "iopub.status.busy": "2022-01-19T02:44:20.201045Z",
     "iopub.status.idle": "2022-01-19T02:44:20.211330Z",
     "shell.execute_reply": "2022-01-19T02:44:20.211826Z",
     "shell.execute_reply.started": "2022-01-19T01:46:22.909794Z"
    },
    "papermill": {
     "duration": 0.042904,
     "end_time": "2022-01-19T02:44:20.212021",
     "exception": false,
     "start_time": "2022-01-19T02:44:20.169117",
     "status": "completed"
    },
    "tags": []
   },
   "outputs": [
    {
     "data": {
      "application/javascript": [
       "parent.postMessage({\"jupyterEvent\": \"custom.exercise_interaction\", \"data\": {\"outcomeType\": 1, \"valueTowardsCompletion\": 0.2, \"interactionType\": 1, \"questionType\": 2, \"questionId\": \"1_SignFunctionProblem\", \"learnToolsVersion\": \"0.3.4\", \"failureMessage\": \"\", \"exceptionClass\": \"\", \"trace\": \"\"}}, \"*\")"
      ],
      "text/plain": [
       "<IPython.core.display.Javascript object>"
      ]
     },
     "metadata": {},
     "output_type": "display_data"
    },
    {
     "data": {
      "text/markdown": [
       "<span style=\"color:#33cc33\">Correct</span>"
      ],
      "text/plain": [
       "Correct"
      ]
     },
     "metadata": {},
     "output_type": "display_data"
    }
   ],
   "source": [
    "# Your code goes here. Define a function called 'sign'\n",
    "def sign(number):\n",
    "    if number > 0:\n",
    "        return 1\n",
    "    elif number < 0:\n",
    "        return -1\n",
    "    else:\n",
    "        return 0\n",
    "    \n",
    "\n",
    "# Check your answer\n",
    "q1.check()"
   ]
  },
  {
   "cell_type": "code",
   "execution_count": 3,
   "id": "10c25aa2",
   "metadata": {
    "execution": {
     "iopub.execute_input": "2022-01-19T02:44:20.279141Z",
     "iopub.status.busy": "2022-01-19T02:44:20.278399Z",
     "iopub.status.idle": "2022-01-19T02:44:20.281054Z",
     "shell.execute_reply": "2022-01-19T02:44:20.280534Z",
     "shell.execute_reply.started": "2022-01-19T01:46:36.840010Z"
    },
    "papermill": {
     "duration": 0.038834,
     "end_time": "2022-01-19T02:44:20.281235",
     "exception": false,
     "start_time": "2022-01-19T02:44:20.242401",
     "status": "completed"
    },
    "tags": []
   },
   "outputs": [],
   "source": [
    "#q1.solution()"
   ]
  },
  {
   "cell_type": "markdown",
   "id": "f95398a2",
   "metadata": {
    "papermill": {
     "duration": 0.029486,
     "end_time": "2022-01-19T02:44:20.340788",
     "exception": false,
     "start_time": "2022-01-19T02:44:20.311302",
     "status": "completed"
    },
    "tags": []
   },
   "source": [
    "# 2.\n",
    "\n",
    "We've decided to add \"logging\" to our `to_smash` function from the previous exercise."
   ]
  },
  {
   "cell_type": "code",
   "execution_count": 4,
   "id": "6e844114",
   "metadata": {
    "execution": {
     "iopub.execute_input": "2022-01-19T02:44:20.408076Z",
     "iopub.status.busy": "2022-01-19T02:44:20.407300Z",
     "iopub.status.idle": "2022-01-19T02:44:20.413619Z",
     "shell.execute_reply": "2022-01-19T02:44:20.414196Z",
     "shell.execute_reply.started": "2022-01-19T01:47:10.760040Z"
    },
    "papermill": {
     "duration": 0.043615,
     "end_time": "2022-01-19T02:44:20.414417",
     "exception": false,
     "start_time": "2022-01-19T02:44:20.370802",
     "status": "completed"
    },
    "tags": []
   },
   "outputs": [
    {
     "name": "stdout",
     "output_type": "stream",
     "text": [
      "Splitting 91 candies\n"
     ]
    },
    {
     "data": {
      "text/plain": [
       "1"
      ]
     },
     "execution_count": 4,
     "metadata": {},
     "output_type": "execute_result"
    }
   ],
   "source": [
    "def to_smash(total_candies):\n",
    "    \"\"\"Return the number of leftover candies that must be smashed after distributing\n",
    "    the given number of candies evenly between 3 friends.\n",
    "    \n",
    "    >>> to_smash(91)\n",
    "    1\n",
    "    \"\"\"\n",
    "    print(\"Splitting\", total_candies, \"candies\")\n",
    "    return total_candies % 3\n",
    "\n",
    "to_smash(91)"
   ]
  },
  {
   "cell_type": "markdown",
   "id": "b758b4d6",
   "metadata": {
    "papermill": {
     "duration": 0.029777,
     "end_time": "2022-01-19T02:44:20.474774",
     "exception": false,
     "start_time": "2022-01-19T02:44:20.444997",
     "status": "completed"
    },
    "tags": []
   },
   "source": [
    "What happens if we call it with `total_candies = 1`?"
   ]
  },
  {
   "cell_type": "code",
   "execution_count": 5,
   "id": "24bbdf90",
   "metadata": {
    "execution": {
     "iopub.execute_input": "2022-01-19T02:44:20.538794Z",
     "iopub.status.busy": "2022-01-19T02:44:20.537826Z",
     "iopub.status.idle": "2022-01-19T02:44:20.545739Z",
     "shell.execute_reply": "2022-01-19T02:44:20.546282Z",
     "shell.execute_reply.started": "2022-01-19T01:47:12.815086Z"
    },
    "papermill": {
     "duration": 0.041538,
     "end_time": "2022-01-19T02:44:20.546475",
     "exception": false,
     "start_time": "2022-01-19T02:44:20.504937",
     "status": "completed"
    },
    "tags": []
   },
   "outputs": [
    {
     "name": "stdout",
     "output_type": "stream",
     "text": [
      "Splitting 1 candies\n"
     ]
    },
    {
     "data": {
      "text/plain": [
       "1"
      ]
     },
     "execution_count": 5,
     "metadata": {},
     "output_type": "execute_result"
    }
   ],
   "source": [
    "to_smash(1)"
   ]
  },
  {
   "cell_type": "markdown",
   "id": "42d4ad7c",
   "metadata": {
    "papermill": {
     "duration": 0.030634,
     "end_time": "2022-01-19T02:44:20.608001",
     "exception": false,
     "start_time": "2022-01-19T02:44:20.577367",
     "status": "completed"
    },
    "tags": []
   },
   "source": [
    "That isn't great grammar!\n",
    "\n",
    "Modify the definition in the cell below to correct the grammar of our print statement. (If there's only one candy, we should use the singular \"candy\" instead of the plural \"candies\")"
   ]
  },
  {
   "cell_type": "code",
   "execution_count": 6,
   "id": "23258db2",
   "metadata": {
    "execution": {
     "iopub.execute_input": "2022-01-19T02:44:20.676984Z",
     "iopub.status.busy": "2022-01-19T02:44:20.676324Z",
     "iopub.status.idle": "2022-01-19T02:44:20.680292Z",
     "shell.execute_reply": "2022-01-19T02:44:20.680795Z",
     "shell.execute_reply.started": "2022-01-19T01:48:36.077011Z"
    },
    "papermill": {
     "duration": 0.042171,
     "end_time": "2022-01-19T02:44:20.680963",
     "exception": false,
     "start_time": "2022-01-19T02:44:20.638792",
     "status": "completed"
    },
    "tags": []
   },
   "outputs": [
    {
     "name": "stdout",
     "output_type": "stream",
     "text": [
      "Splitting 91 candies\n",
      "Splitting 1 candy\n"
     ]
    },
    {
     "data": {
      "text/plain": [
       "1"
      ]
     },
     "execution_count": 6,
     "metadata": {},
     "output_type": "execute_result"
    }
   ],
   "source": [
    "def to_smash(total_candies):\n",
    "    \"\"\"Return the number of leftover candies that must be smashed after distributing\n",
    "    the given number of candies evenly between 3 friends.\n",
    "    \n",
    "    >>> to_smash(91)\n",
    "    1\n",
    "    \"\"\"\n",
    "    if total_candies == 1:\n",
    "        print(\"Splitting\", total_candies, \"candy\")\n",
    "    else:\n",
    "        print(\"Splitting\", total_candies, \"candies\")\n",
    "    return total_candies % 3\n",
    "\n",
    "to_smash(91)\n",
    "to_smash(1)"
   ]
  },
  {
   "cell_type": "markdown",
   "id": "1c84e0ca",
   "metadata": {
    "papermill": {
     "duration": 0.031154,
     "end_time": "2022-01-19T02:44:20.743242",
     "exception": false,
     "start_time": "2022-01-19T02:44:20.712088",
     "status": "completed"
    },
    "tags": []
   },
   "source": [
    "To get credit for completing this problem, and to see the official answer, run the code cell below."
   ]
  },
  {
   "cell_type": "code",
   "execution_count": 7,
   "id": "e4fe5fbe",
   "metadata": {
    "execution": {
     "iopub.execute_input": "2022-01-19T02:44:20.816143Z",
     "iopub.status.busy": "2022-01-19T02:44:20.815536Z",
     "iopub.status.idle": "2022-01-19T02:44:20.818616Z",
     "shell.execute_reply": "2022-01-19T02:44:20.819071Z",
     "shell.execute_reply.started": "2022-01-19T01:48:57.100357Z"
    },
    "papermill": {
     "duration": 0.044514,
     "end_time": "2022-01-19T02:44:20.819264",
     "exception": false,
     "start_time": "2022-01-19T02:44:20.774750",
     "status": "completed"
    },
    "tags": []
   },
   "outputs": [],
   "source": [
    "# Check your answer (Run this code cell to receive credit!)\n",
    "#q2.solution()"
   ]
  },
  {
   "cell_type": "markdown",
   "id": "447e51ae",
   "metadata": {
    "papermill": {
     "duration": 0.031309,
     "end_time": "2022-01-19T02:44:20.882382",
     "exception": false,
     "start_time": "2022-01-19T02:44:20.851073",
     "status": "completed"
    },
    "tags": []
   },
   "source": [
    "# 3. <span title=\"A bit spicy\" style=\"color: darkgreen \">🌶️</span>\n",
    "\n",
    "In the tutorial, we talked about deciding whether we're prepared for the weather. I said that I'm safe from today's weather if...\n",
    "- I have an umbrella...\n",
    "- or if the rain isn't too heavy and I have a hood...\n",
    "- otherwise, I'm still fine unless it's raining *and* it's a workday\n",
    "\n",
    "The function below uses our first attempt at turning this logic into a Python expression. I claimed that there was a bug in that code. Can you find it?\n",
    "\n",
    "To prove that `prepared_for_weather` is buggy, come up with a set of inputs where either:\n",
    "- the function returns `False` (but should have returned `True`), or\n",
    "- the function returned `True` (but should have returned `False`).\n",
    "\n",
    "To get credit for completing this question, your code should return a <font color='#33cc33'>Correct</font> result."
   ]
  },
  {
   "cell_type": "code",
   "execution_count": 8,
   "id": "e224c6f8",
   "metadata": {
    "execution": {
     "iopub.execute_input": "2022-01-19T02:44:20.953090Z",
     "iopub.status.busy": "2022-01-19T02:44:20.952405Z",
     "iopub.status.idle": "2022-01-19T02:44:20.957237Z",
     "shell.execute_reply": "2022-01-19T02:44:20.957749Z",
     "shell.execute_reply.started": "2022-01-19T01:59:54.628670Z"
    },
    "papermill": {
     "duration": 0.044235,
     "end_time": "2022-01-19T02:44:20.957920",
     "exception": false,
     "start_time": "2022-01-19T02:44:20.913685",
     "status": "completed"
    },
    "tags": []
   },
   "outputs": [
    {
     "name": "stdout",
     "output_type": "stream",
     "text": [
      "False\n"
     ]
    },
    {
     "data": {
      "application/javascript": [
       "parent.postMessage({\"jupyterEvent\": \"custom.exercise_interaction\", \"data\": {\"outcomeType\": 1, \"valueTowardsCompletion\": 0.2, \"interactionType\": 1, \"questionType\": 1, \"questionId\": \"3_WeatherDebug\", \"learnToolsVersion\": \"0.3.4\", \"failureMessage\": \"\", \"exceptionClass\": \"\", \"trace\": \"\"}}, \"*\")"
      ],
      "text/plain": [
       "<IPython.core.display.Javascript object>"
      ]
     },
     "metadata": {},
     "output_type": "display_data"
    },
    {
     "data": {
      "text/markdown": [
       "<span style=\"color:#33cc33\">Correct:</span> \n",
       "\n",
       "One example of a failing test case is:\n",
       "\n",
       "```python\n",
       "have_umbrella = False\n",
       "rain_level = 0.0\n",
       "have_hood = False\n",
       "is_workday = False\n",
       "```\n",
       "\n",
       "Clearly we're prepared for the weather in this case. It's not raining. Not only that, it's not a workday, so we don't even need to leave the house! But our function will return False on these inputs.\n",
       "\n",
       "The key problem is that Python implictly parenthesizes the last part as:\n",
       "\n",
       "```python\n",
       "(not (rain_level > 0)) and is_workday\n",
       "```\n",
       "\n",
       "Whereas what we were trying to express would look more like:\n",
       "\n",
       "```python\n",
       "not (rain_level > 0 and is_workday)\n",
       "```\n"
      ],
      "text/plain": [
       "Correct: \n",
       "\n",
       "One example of a failing test case is:\n",
       "\n",
       "```python\n",
       "have_umbrella = False\n",
       "rain_level = 0.0\n",
       "have_hood = False\n",
       "is_workday = False\n",
       "```\n",
       "\n",
       "Clearly we're prepared for the weather in this case. It's not raining. Not only that, it's not a workday, so we don't even need to leave the house! But our function will return False on these inputs.\n",
       "\n",
       "The key problem is that Python implictly parenthesizes the last part as:\n",
       "\n",
       "```python\n",
       "(not (rain_level > 0)) and is_workday\n",
       "```\n",
       "\n",
       "Whereas what we were trying to express would look more like:\n",
       "\n",
       "```python\n",
       "not (rain_level > 0 and is_workday)\n",
       "```"
      ]
     },
     "metadata": {},
     "output_type": "display_data"
    }
   ],
   "source": [
    "def prepared_for_weather(have_umbrella, rain_level, have_hood, is_workday):\n",
    "    # Don't change this code. Our goal is just to find the bug, not fix it!\n",
    "    return have_umbrella or rain_level < 5 and have_hood or not rain_level > 0 and is_workday\n",
    "\n",
    "# Change the values of these inputs so they represent a case where prepared_for_weather\n",
    "# returns the wrong answer.\n",
    "have_umbrella = False\n",
    "rain_level = 7.0\n",
    "have_hood = False\n",
    "is_workday = False\n",
    "\n",
    "# Check what the function returns given the current values of the variables above\n",
    "actual = prepared_for_weather(have_umbrella, rain_level, have_hood, is_workday)\n",
    "print(actual)\n",
    "\n",
    "# Check your answer\n",
    "q3.check()"
   ]
  },
  {
   "cell_type": "code",
   "execution_count": 9,
   "id": "fd80ac33",
   "metadata": {
    "execution": {
     "iopub.execute_input": "2022-01-19T02:44:21.028780Z",
     "iopub.status.busy": "2022-01-19T02:44:21.027763Z",
     "iopub.status.idle": "2022-01-19T02:44:21.030490Z",
     "shell.execute_reply": "2022-01-19T02:44:21.029832Z"
    },
    "papermill": {
     "duration": 0.040014,
     "end_time": "2022-01-19T02:44:21.030631",
     "exception": false,
     "start_time": "2022-01-19T02:44:20.990617",
     "status": "completed"
    },
    "tags": []
   },
   "outputs": [],
   "source": [
    "#q3.hint()\n",
    "#q3.solution()"
   ]
  },
  {
   "cell_type": "markdown",
   "id": "d071cb1e",
   "metadata": {
    "papermill": {
     "duration": 0.032806,
     "end_time": "2022-01-19T02:44:21.096859",
     "exception": false,
     "start_time": "2022-01-19T02:44:21.064053",
     "status": "completed"
    },
    "tags": []
   },
   "source": [
    "# 4.\n",
    "\n",
    "The function `is_negative` below is implemented correctly - it returns True if the given number is negative and False otherwise.\n",
    "\n",
    "However, it's more verbose than it needs to be. We can actually reduce the number of lines of code in this function by *75%* while keeping the same behaviour. \n",
    "\n",
    "See if you can come up with an equivalent body that uses just **one line** of code, and put it in the function `concise_is_negative`. (HINT: you don't even need Python's ternary syntax)"
   ]
  },
  {
   "cell_type": "code",
   "execution_count": 10,
   "id": "355330ce",
   "metadata": {
    "execution": {
     "iopub.execute_input": "2022-01-19T02:44:21.171725Z",
     "iopub.status.busy": "2022-01-19T02:44:21.170717Z",
     "iopub.status.idle": "2022-01-19T02:44:21.176293Z",
     "shell.execute_reply": "2022-01-19T02:44:21.175738Z",
     "shell.execute_reply.started": "2022-01-19T02:01:23.672087Z"
    },
    "papermill": {
     "duration": 0.046708,
     "end_time": "2022-01-19T02:44:21.176456",
     "exception": false,
     "start_time": "2022-01-19T02:44:21.129748",
     "status": "completed"
    },
    "tags": []
   },
   "outputs": [
    {
     "data": {
      "application/javascript": [
       "parent.postMessage({\"jupyterEvent\": \"custom.exercise_interaction\", \"data\": {\"outcomeType\": 1, \"valueTowardsCompletion\": 0.2, \"interactionType\": 1, \"questionType\": 2, \"questionId\": \"4_ConciseIsNegative\", \"learnToolsVersion\": \"0.3.4\", \"failureMessage\": \"\", \"exceptionClass\": \"\", \"trace\": \"\"}}, \"*\")"
      ],
      "text/plain": [
       "<IPython.core.display.Javascript object>"
      ]
     },
     "metadata": {},
     "output_type": "display_data"
    },
    {
     "data": {
      "text/markdown": [
       "<span style=\"color:#33cc33\">Correct</span>"
      ],
      "text/plain": [
       "Correct"
      ]
     },
     "metadata": {},
     "output_type": "display_data"
    }
   ],
   "source": [
    "def is_negative(number):\n",
    "    if number < 0:\n",
    "        return True\n",
    "    else:\n",
    "        return False\n",
    "\n",
    "def concise_is_negative(number):\n",
    "    return number < 0 # Your code goes here (try to keep it to one line!)\n",
    "\n",
    "# Check your answer\n",
    "q4.check()"
   ]
  },
  {
   "cell_type": "code",
   "execution_count": 11,
   "id": "c4c5bec9",
   "metadata": {
    "execution": {
     "iopub.execute_input": "2022-01-19T02:44:21.250922Z",
     "iopub.status.busy": "2022-01-19T02:44:21.250250Z",
     "iopub.status.idle": "2022-01-19T02:44:21.252623Z",
     "shell.execute_reply": "2022-01-19T02:44:21.251984Z"
    },
    "papermill": {
     "duration": 0.04109,
     "end_time": "2022-01-19T02:44:21.252787",
     "exception": false,
     "start_time": "2022-01-19T02:44:21.211697",
     "status": "completed"
    },
    "tags": []
   },
   "outputs": [],
   "source": [
    "#q4.hint()\n",
    "#q4.solution()"
   ]
  },
  {
   "cell_type": "markdown",
   "id": "6843a54e",
   "metadata": {
    "papermill": {
     "duration": 0.034115,
     "end_time": "2022-01-19T02:44:21.321478",
     "exception": false,
     "start_time": "2022-01-19T02:44:21.287363",
     "status": "completed"
    },
    "tags": []
   },
   "source": [
    "# 5a.\n",
    "\n",
    "The boolean variables `ketchup`, `mustard` and `onion` represent whether a customer wants a particular topping on their hot dog. We want to implement a number of boolean functions that correspond to some yes-or-no questions about the customer's order. For example:"
   ]
  },
  {
   "cell_type": "code",
   "execution_count": 12,
   "id": "d1a5119f",
   "metadata": {
    "execution": {
     "iopub.execute_input": "2022-01-19T02:44:21.395498Z",
     "iopub.status.busy": "2022-01-19T02:44:21.394851Z",
     "iopub.status.idle": "2022-01-19T02:44:21.397297Z",
     "shell.execute_reply": "2022-01-19T02:44:21.396627Z",
     "shell.execute_reply.started": "2022-01-19T02:01:50.028165Z"
    },
    "papermill": {
     "duration": 0.041551,
     "end_time": "2022-01-19T02:44:21.397452",
     "exception": false,
     "start_time": "2022-01-19T02:44:21.355901",
     "status": "completed"
    },
    "tags": []
   },
   "outputs": [],
   "source": [
    "def onionless(ketchup, mustard, onion):\n",
    "    \"\"\"Return whether the customer doesn't want onions.\n",
    "    \"\"\"\n",
    "    return not onion"
   ]
  },
  {
   "cell_type": "code",
   "execution_count": 13,
   "id": "4fe14d78",
   "metadata": {
    "execution": {
     "iopub.execute_input": "2022-01-19T02:44:21.474665Z",
     "iopub.status.busy": "2022-01-19T02:44:21.473644Z",
     "iopub.status.idle": "2022-01-19T02:44:21.479915Z",
     "shell.execute_reply": "2022-01-19T02:44:21.479341Z",
     "shell.execute_reply.started": "2022-01-19T02:03:24.256795Z"
    },
    "papermill": {
     "duration": 0.047492,
     "end_time": "2022-01-19T02:44:21.480072",
     "exception": false,
     "start_time": "2022-01-19T02:44:21.432580",
     "status": "completed"
    },
    "tags": []
   },
   "outputs": [
    {
     "data": {
      "application/javascript": [
       "parent.postMessage({\"jupyterEvent\": \"custom.exercise_interaction\", \"data\": {\"outcomeType\": 1, \"valueTowardsCompletion\": 0.2, \"interactionType\": 1, \"questionType\": 2, \"questionId\": \"5.1_AllToppings\", \"learnToolsVersion\": \"0.3.4\", \"failureMessage\": \"\", \"exceptionClass\": \"\", \"trace\": \"\"}}, \"*\")"
      ],
      "text/plain": [
       "<IPython.core.display.Javascript object>"
      ]
     },
     "metadata": {},
     "output_type": "display_data"
    },
    {
     "data": {
      "text/markdown": [
       "<span style=\"color:#33cc33\">Correct</span>"
      ],
      "text/plain": [
       "Correct"
      ]
     },
     "metadata": {},
     "output_type": "display_data"
    }
   ],
   "source": [
    "def wants_all_toppings(ketchup, mustard, onion):\n",
    "    \"\"\"Return whether the customer wants \"the works\" (all 3 toppings)\n",
    "    \"\"\"\n",
    "    return ketchup and mustard and onion\n",
    "\n",
    "# Check your answer\n",
    "q5.a.check()"
   ]
  },
  {
   "cell_type": "code",
   "execution_count": 14,
   "id": "201840d4",
   "metadata": {
    "execution": {
     "iopub.execute_input": "2022-01-19T02:44:21.554950Z",
     "iopub.status.busy": "2022-01-19T02:44:21.553953Z",
     "iopub.status.idle": "2022-01-19T02:44:21.557057Z",
     "shell.execute_reply": "2022-01-19T02:44:21.557661Z",
     "shell.execute_reply.started": "2022-01-19T02:03:33.385737Z"
    },
    "papermill": {
     "duration": 0.042523,
     "end_time": "2022-01-19T02:44:21.557855",
     "exception": false,
     "start_time": "2022-01-19T02:44:21.515332",
     "status": "completed"
    },
    "tags": []
   },
   "outputs": [],
   "source": [
    "#q5.a.hint()\n",
    "#q5.a.solution()"
   ]
  },
  {
   "cell_type": "markdown",
   "id": "ee28b44f",
   "metadata": {
    "papermill": {
     "duration": 0.039199,
     "end_time": "2022-01-19T02:44:21.632566",
     "exception": false,
     "start_time": "2022-01-19T02:44:21.593367",
     "status": "completed"
    },
    "tags": []
   },
   "source": [
    "# 5b.\n",
    "\n",
    "For the next function, fill in the body to match the English description in the docstring. "
   ]
  },
  {
   "cell_type": "code",
   "execution_count": 15,
   "id": "dc45ea1d",
   "metadata": {
    "execution": {
     "iopub.execute_input": "2022-01-19T02:44:21.710108Z",
     "iopub.status.busy": "2022-01-19T02:44:21.709428Z",
     "iopub.status.idle": "2022-01-19T02:44:21.713853Z",
     "shell.execute_reply": "2022-01-19T02:44:21.714498Z",
     "shell.execute_reply.started": "2022-01-19T02:05:04.871901Z"
    },
    "papermill": {
     "duration": 0.046023,
     "end_time": "2022-01-19T02:44:21.714695",
     "exception": false,
     "start_time": "2022-01-19T02:44:21.668672",
     "status": "completed"
    },
    "tags": []
   },
   "outputs": [
    {
     "data": {
      "application/javascript": [
       "parent.postMessage({\"jupyterEvent\": \"custom.exercise_interaction\", \"data\": {\"outcomeType\": 1, \"valueTowardsCompletion\": 0.2, \"interactionType\": 1, \"questionType\": 2, \"questionId\": \"5.2_PlainDog\", \"learnToolsVersion\": \"0.3.4\", \"failureMessage\": \"\", \"exceptionClass\": \"\", \"trace\": \"\"}}, \"*\")"
      ],
      "text/plain": [
       "<IPython.core.display.Javascript object>"
      ]
     },
     "metadata": {},
     "output_type": "display_data"
    },
    {
     "data": {
      "text/markdown": [
       "<span style=\"color:#33cc33\">Correct:</span> \n",
       "\n",
       "One solution looks like:\n",
       "```python\n",
       "return not ketchup and not mustard and not onion\n",
       "```\n",
       "\n",
       "We can also [\"factor out\" the nots](https://en.wikipedia.org/wiki/De_Morgan%27s_laws) to get:\n",
       "\n",
       "```python\n",
       "return not (ketchup or mustard or onion)\n",
       "```"
      ],
      "text/plain": [
       "Correct: \n",
       "\n",
       "One solution looks like:\n",
       "```python\n",
       "return not ketchup and not mustard and not onion\n",
       "```\n",
       "\n",
       "We can also [\"factor out\" the nots](https://en.wikipedia.org/wiki/De_Morgan%27s_laws) to get:\n",
       "\n",
       "```python\n",
       "return not (ketchup or mustard or onion)\n",
       "```"
      ]
     },
     "metadata": {},
     "output_type": "display_data"
    }
   ],
   "source": [
    "def wants_plain_hotdog(ketchup, mustard, onion):\n",
    "    \"\"\"Return whether the customer wants a plain hot dog with no toppings.\n",
    "    \"\"\"\n",
    "    return not(ketchup or mustard or onion)\n",
    "\n",
    "# Check your answer\n",
    "q5.b.check()"
   ]
  },
  {
   "cell_type": "code",
   "execution_count": 16,
   "id": "1167c781",
   "metadata": {
    "execution": {
     "iopub.execute_input": "2022-01-19T02:44:21.791141Z",
     "iopub.status.busy": "2022-01-19T02:44:21.790526Z",
     "iopub.status.idle": "2022-01-19T02:44:21.793557Z",
     "shell.execute_reply": "2022-01-19T02:44:21.794141Z"
    },
    "papermill": {
     "duration": 0.04258,
     "end_time": "2022-01-19T02:44:21.794331",
     "exception": false,
     "start_time": "2022-01-19T02:44:21.751751",
     "status": "completed"
    },
    "tags": []
   },
   "outputs": [],
   "source": [
    "#q5.b.hint()\n",
    "#q5.b.solution()"
   ]
  },
  {
   "cell_type": "markdown",
   "id": "2894ac97",
   "metadata": {
    "papermill": {
     "duration": 0.035646,
     "end_time": "2022-01-19T02:44:21.866133",
     "exception": false,
     "start_time": "2022-01-19T02:44:21.830487",
     "status": "completed"
    },
    "tags": []
   },
   "source": [
    "# 5c.\n",
    "\n",
    "You know what to do: for the next function, fill in the body to match the English description in the docstring."
   ]
  },
  {
   "cell_type": "code",
   "execution_count": 17,
   "id": "9b4a85c4",
   "metadata": {
    "execution": {
     "iopub.execute_input": "2022-01-19T02:44:21.941736Z",
     "iopub.status.busy": "2022-01-19T02:44:21.941092Z",
     "iopub.status.idle": "2022-01-19T02:44:21.948106Z",
     "shell.execute_reply": "2022-01-19T02:44:21.948705Z",
     "shell.execute_reply.started": "2022-01-19T02:13:10.912321Z"
    },
    "papermill": {
     "duration": 0.046843,
     "end_time": "2022-01-19T02:44:21.948879",
     "exception": false,
     "start_time": "2022-01-19T02:44:21.902036",
     "status": "completed"
    },
    "tags": []
   },
   "outputs": [
    {
     "data": {
      "application/javascript": [
       "parent.postMessage({\"jupyterEvent\": \"custom.exercise_interaction\", \"data\": {\"outcomeType\": 1, \"valueTowardsCompletion\": 0.2, \"interactionType\": 1, \"questionType\": 2, \"questionId\": \"5.3_OneSauce\", \"learnToolsVersion\": \"0.3.4\", \"failureMessage\": \"\", \"exceptionClass\": \"\", \"trace\": \"\"}}, \"*\")"
      ],
      "text/plain": [
       "<IPython.core.display.Javascript object>"
      ]
     },
     "metadata": {},
     "output_type": "display_data"
    },
    {
     "data": {
      "text/markdown": [
       "<span style=\"color:#33cc33\">Correct</span>"
      ],
      "text/plain": [
       "Correct"
      ]
     },
     "metadata": {},
     "output_type": "display_data"
    }
   ],
   "source": [
    "def exactly_one_sauce(ketchup, mustard, onion):\n",
    "    \"\"\"Return whether the customer wants either ketchup or mustard, but not both.\n",
    "    (You may be familiar with this operation under the name \"exclusive or\")\n",
    "    \"\"\"\n",
    "    return (ketchup and not mustard) or (mustard and not ketchup)\n",
    "\n",
    "# Check your answer\n",
    "q5.c.check()"
   ]
  },
  {
   "cell_type": "code",
   "execution_count": 18,
   "id": "6618a46c",
   "metadata": {
    "execution": {
     "iopub.execute_input": "2022-01-19T02:44:22.028441Z",
     "iopub.status.busy": "2022-01-19T02:44:22.027777Z",
     "iopub.status.idle": "2022-01-19T02:44:22.029563Z",
     "shell.execute_reply": "2022-01-19T02:44:22.030136Z",
     "shell.execute_reply.started": "2022-01-19T02:13:14.115485Z"
    },
    "papermill": {
     "duration": 0.044228,
     "end_time": "2022-01-19T02:44:22.030320",
     "exception": false,
     "start_time": "2022-01-19T02:44:21.986092",
     "status": "completed"
    },
    "tags": []
   },
   "outputs": [],
   "source": [
    "#q5.c.hint()\n",
    "#q5.c.solution()"
   ]
  },
  {
   "cell_type": "markdown",
   "id": "d84c25c2",
   "metadata": {
    "papermill": {
     "duration": 0.03759,
     "end_time": "2022-01-19T02:44:22.106284",
     "exception": false,
     "start_time": "2022-01-19T02:44:22.068694",
     "status": "completed"
    },
    "tags": []
   },
   "source": [
    "# 6. <span title=\"A bit spicy\" style=\"color: darkgreen \">🌶️</span>\n",
    "\n",
    "We’ve seen that calling `bool()` on an integer returns `False` if it’s equal to 0 and `True` otherwise. What happens if we call `int()` on a bool? Try it out in the notebook cell below.\n",
    "\n",
    "Can you take advantage of this to write a succinct function that corresponds to the English sentence \"does the customer want exactly one topping?\"?"
   ]
  },
  {
   "cell_type": "code",
   "execution_count": 19,
   "id": "838cc720",
   "metadata": {
    "execution": {
     "iopub.execute_input": "2022-01-19T02:44:22.186062Z",
     "iopub.status.busy": "2022-01-19T02:44:22.185429Z",
     "iopub.status.idle": "2022-01-19T02:44:22.192229Z",
     "shell.execute_reply": "2022-01-19T02:44:22.192779Z",
     "shell.execute_reply.started": "2022-01-19T02:15:32.904173Z"
    },
    "papermill": {
     "duration": 0.0489,
     "end_time": "2022-01-19T02:44:22.192974",
     "exception": false,
     "start_time": "2022-01-19T02:44:22.144074",
     "status": "completed"
    },
    "tags": []
   },
   "outputs": [
    {
     "data": {
      "application/javascript": [
       "parent.postMessage({\"jupyterEvent\": \"custom.exercise_interaction\", \"data\": {\"outcomeType\": 1, \"valueTowardsCompletion\": 0.2, \"interactionType\": 1, \"questionType\": 2, \"questionId\": \"6_OneTopping\", \"learnToolsVersion\": \"0.3.4\", \"failureMessage\": \"\", \"exceptionClass\": \"\", \"trace\": \"\"}}, \"*\")"
      ],
      "text/plain": [
       "<IPython.core.display.Javascript object>"
      ]
     },
     "metadata": {},
     "output_type": "display_data"
    },
    {
     "data": {
      "text/markdown": [
       "<span style=\"color:#33cc33\">Correct:</span> \n",
       "\n",
       "This condition would be pretty complicated to express using just `and`, `or` and `not`, but using boolean-to-integer conversion gives us this short solution:\n",
       "```python\n",
       "return (int(ketchup) + int(mustard) + int(onion)) == 1\n",
       "```\n",
       "\n",
       "Fun fact: we don't technically need to call `int` on the arguments. Just by doing addition with booleans, Python implicitly does the integer conversion. So we could also write...\n",
       "\n",
       "```python\n",
       "return (ketchup + mustard + onion) == 1\n",
       "```"
      ],
      "text/plain": [
       "Correct: \n",
       "\n",
       "This condition would be pretty complicated to express using just `and`, `or` and `not`, but using boolean-to-integer conversion gives us this short solution:\n",
       "```python\n",
       "return (int(ketchup) + int(mustard) + int(onion)) == 1\n",
       "```\n",
       "\n",
       "Fun fact: we don't technically need to call `int` on the arguments. Just by doing addition with booleans, Python implicitly does the integer conversion. So we could also write...\n",
       "\n",
       "```python\n",
       "return (ketchup + mustard + onion) == 1\n",
       "```"
      ]
     },
     "metadata": {},
     "output_type": "display_data"
    }
   ],
   "source": [
    "def exactly_one_topping(ketchup, mustard, onion):\n",
    "    \"\"\"Return whether the customer wants exactly one of the three available toppings\n",
    "    on their hot dog.\n",
    "    \"\"\"\n",
    "    return (int(ketchup) + int(mustard) + int(onion)) == 1\n",
    "\n",
    "# Check your answer\n",
    "q6.check()"
   ]
  },
  {
   "cell_type": "code",
   "execution_count": 20,
   "id": "01033b3b",
   "metadata": {
    "execution": {
     "iopub.execute_input": "2022-01-19T02:44:22.275011Z",
     "iopub.status.busy": "2022-01-19T02:44:22.274319Z",
     "iopub.status.idle": "2022-01-19T02:44:22.275694Z",
     "shell.execute_reply": "2022-01-19T02:44:22.276283Z",
     "shell.execute_reply.started": "2022-01-19T02:14:52.630934Z"
    },
    "papermill": {
     "duration": 0.044731,
     "end_time": "2022-01-19T02:44:22.276466",
     "exception": false,
     "start_time": "2022-01-19T02:44:22.231735",
     "status": "completed"
    },
    "tags": []
   },
   "outputs": [],
   "source": [
    "#q6.hint()\n",
    "#q6.solution()"
   ]
  },
  {
   "cell_type": "markdown",
   "id": "0f6a0648",
   "metadata": {
    "papermill": {
     "duration": 0.038197,
     "end_time": "2022-01-19T02:44:22.352899",
     "exception": false,
     "start_time": "2022-01-19T02:44:22.314702",
     "status": "completed"
    },
    "tags": []
   },
   "source": [
    "# 7. <span title=\"A bit spicy\" style=\"color: darkgreen \">🌶️</span> (Optional)\n",
    "\n",
    "In this problem we'll be working with a simplified version of [blackjack](https://en.wikipedia.org/wiki/Blackjack) (aka twenty-one). In this version there is one player (who you'll control) and a dealer. Play proceeds as follows:\n",
    "\n",
    "- The player is dealt two face-up cards. The dealer is dealt one face-up card.\n",
    "- The player may ask to be dealt another card ('hit') as many times as they wish. If the sum of their cards exceeds 21, they lose the round immediately.\n",
    "- The dealer then deals additional cards to himself until either:\n",
    "    - the sum of the dealer's cards exceeds 21, in which case the player wins the round\n",
    "    - the sum of the dealer's cards is greater than or equal to 17. If the player's total is greater than the dealer's, the player wins. Otherwise, the dealer wins (even in case of a tie).\n",
    "    \n",
    "When calculating the sum of cards, Jack, Queen, and King count for 10. Aces can count as 1 or 11 (when referring to a player's \"total\" above, we mean the largest total that can be made without exceeding 21. So e.g. A+8 = 19, A+8+8 = 17)\n",
    "\n",
    "For this problem, you'll write a function representing the player's decision-making strategy in this game. We've provided a very unintelligent implementation below:"
   ]
  },
  {
   "cell_type": "code",
   "execution_count": 21,
   "id": "bc60a4da",
   "metadata": {
    "execution": {
     "iopub.execute_input": "2022-01-19T02:44:22.433723Z",
     "iopub.status.busy": "2022-01-19T02:44:22.433003Z",
     "iopub.status.idle": "2022-01-19T02:44:22.436609Z",
     "shell.execute_reply": "2022-01-19T02:44:22.437198Z"
    },
    "papermill": {
     "duration": 0.045965,
     "end_time": "2022-01-19T02:44:22.437399",
     "exception": false,
     "start_time": "2022-01-19T02:44:22.391434",
     "status": "completed"
    },
    "tags": []
   },
   "outputs": [],
   "source": [
    "def should_hit(dealer_total, player_total, player_low_aces, player_high_aces):\n",
    "    \"\"\"Return True if the player should hit (request another card) given the current game\n",
    "    state, or False if the player should stay.\n",
    "    When calculating a hand's total value, we count aces as \"high\" (with value 11) if doing so\n",
    "    doesn't bring the total above 21, otherwise we count them as low (with value 1). \n",
    "    For example, if the player's hand is {A, A, A, 7}, we will count it as 11 + 1 + 1 + 7,\n",
    "    and therefore set player_total=20, player_low_aces=2, player_high_aces=1.\n",
    "    \"\"\"\n",
    "    return False"
   ]
  },
  {
   "cell_type": "markdown",
   "id": "a58de504",
   "metadata": {
    "papermill": {
     "duration": 0.039266,
     "end_time": "2022-01-19T02:44:22.516086",
     "exception": false,
     "start_time": "2022-01-19T02:44:22.476820",
     "status": "completed"
    },
    "tags": []
   },
   "source": [
    "This very conservative agent *always* sticks with the hand of two cards that they're dealt.\n",
    "\n",
    "We'll be simulating games between your player agent and our own dealer agent by calling your function.\n",
    "\n",
    "Try running the function below to see an example of a simulated game:"
   ]
  },
  {
   "cell_type": "code",
   "execution_count": 22,
   "id": "264dbd36",
   "metadata": {
    "execution": {
     "iopub.execute_input": "2022-01-19T02:44:22.597590Z",
     "iopub.status.busy": "2022-01-19T02:44:22.596910Z",
     "iopub.status.idle": "2022-01-19T02:44:22.602115Z",
     "shell.execute_reply": "2022-01-19T02:44:22.602621Z",
     "shell.execute_reply.started": "2022-01-19T02:19:13.830261Z"
    },
    "papermill": {
     "duration": 0.047692,
     "end_time": "2022-01-19T02:44:22.602830",
     "exception": false,
     "start_time": "2022-01-19T02:44:22.555138",
     "status": "completed"
    },
    "tags": []
   },
   "outputs": [
    {
     "name": "stdout",
     "output_type": "stream",
     "text": [
      "Player starts with Q and 4 (total = 14)\n",
      "Dealer starts with J\n",
      "\n",
      "__Player's turn__\n",
      "Player stays\n",
      "\n",
      "__Dealer's turn__\n",
      "Dealer hits and receives Q. (total = 20)\n",
      "Dealer stands.\n",
      "Dealer wins. 20 >= 14\n"
     ]
    }
   ],
   "source": [
    "q7.simulate_one_game()"
   ]
  },
  {
   "cell_type": "markdown",
   "id": "c679b397",
   "metadata": {
    "papermill": {
     "duration": 0.038186,
     "end_time": "2022-01-19T02:44:22.680308",
     "exception": false,
     "start_time": "2022-01-19T02:44:22.642122",
     "status": "completed"
    },
    "tags": []
   },
   "source": [
    "The real test of your agent's mettle is their average win rate over many games. Try calling the function below to simulate 50000 games of blackjack (it may take a couple seconds):"
   ]
  },
  {
   "cell_type": "code",
   "execution_count": 23,
   "id": "b46d28e2",
   "metadata": {
    "execution": {
     "iopub.execute_input": "2022-01-19T02:44:22.798569Z",
     "iopub.status.busy": "2022-01-19T02:44:22.760819Z",
     "iopub.status.idle": "2022-01-19T02:44:24.737467Z",
     "shell.execute_reply": "2022-01-19T02:44:24.737964Z",
     "shell.execute_reply.started": "2022-01-19T02:19:19.828708Z"
    },
    "papermill": {
     "duration": 2.019539,
     "end_time": "2022-01-19T02:44:24.738132",
     "exception": false,
     "start_time": "2022-01-19T02:44:22.718593",
     "status": "completed"
    },
    "tags": []
   },
   "outputs": [
    {
     "name": "stdout",
     "output_type": "stream",
     "text": [
      "Player won 19042 out of 50000 games (win rate = 38.1%)\n"
     ]
    }
   ],
   "source": [
    "q7.simulate(n_games=50000)"
   ]
  },
  {
   "cell_type": "markdown",
   "id": "1894b52c",
   "metadata": {
    "papermill": {
     "duration": 0.038943,
     "end_time": "2022-01-19T02:44:24.816191",
     "exception": false,
     "start_time": "2022-01-19T02:44:24.777248",
     "status": "completed"
    },
    "tags": []
   },
   "source": [
    "Our dumb agent that completely ignores the game state still manages to win shockingly often!\n",
    "\n",
    "Try adding some more smarts to the `should_hit` function and see how it affects the results."
   ]
  },
  {
   "cell_type": "code",
   "execution_count": 24,
   "id": "191650bc",
   "metadata": {
    "execution": {
     "iopub.execute_input": "2022-01-19T02:44:24.897733Z",
     "iopub.status.busy": "2022-01-19T02:44:24.897075Z",
     "iopub.status.idle": "2022-01-19T02:44:27.051420Z",
     "shell.execute_reply": "2022-01-19T02:44:27.050734Z",
     "shell.execute_reply.started": "2022-01-19T02:43:35.837215Z"
    },
    "papermill": {
     "duration": 2.19653,
     "end_time": "2022-01-19T02:44:27.051576",
     "exception": false,
     "start_time": "2022-01-19T02:44:24.855046",
     "status": "completed"
    },
    "tags": []
   },
   "outputs": [
    {
     "name": "stdout",
     "output_type": "stream",
     "text": [
      "Player won 20473 out of 50000 games (win rate = 40.9%)\n"
     ]
    }
   ],
   "source": [
    "def should_hit(dealer_total, player_total, player_low_aces, player_high_aces):\n",
    "    \"\"\"Return True if the player should hit (request another card) given the current game\n",
    "    state, or False if the player should stay.\n",
    "    When calculating a hand's total value, we count aces as \"high\" (with value 11) if doing so\n",
    "    doesn't bring the total above 21, otherwise we count them as low (with value 1). \n",
    "    For example, if the player's hand is {A, A, A, 7}, we will count it as 11 + 1 + 1 + 7,\n",
    "    and therefore set player_total=20, player_low_aces=2, player_high_aces=1.\n",
    "    \"\"\"\n",
    "    if player_total <= 10:\n",
    "        return True\n",
    "    elif player_total > 10:\n",
    "        if dealer_total >= player_total:\n",
    "            return True\n",
    "        elif dealer_total < player_total:\n",
    "            if player_total > 16:\n",
    "                return False\n",
    "            else:\n",
    "                return True\n",
    "\n",
    "q7.simulate(n_games=50000)"
   ]
  },
  {
   "cell_type": "markdown",
   "id": "95e04d4b",
   "metadata": {
    "papermill": {
     "duration": 0.041403,
     "end_time": "2022-01-19T02:44:27.132331",
     "exception": false,
     "start_time": "2022-01-19T02:44:27.090928",
     "status": "completed"
    },
    "tags": []
   },
   "source": [
    "# Keep Going\n",
    "\n",
    "Learn about **[lists and tuples](https://www.kaggle.com/colinmorris/lists)** to handle multiple items of data in a systematic way."
   ]
  },
  {
   "cell_type": "markdown",
   "id": "30e913b4",
   "metadata": {
    "papermill": {
     "duration": 0.039851,
     "end_time": "2022-01-19T02:44:27.211522",
     "exception": false,
     "start_time": "2022-01-19T02:44:27.171671",
     "status": "completed"
    },
    "tags": []
   },
   "source": [
    "---\n",
    "\n",
    "\n",
    "\n",
    "\n",
    "*Have questions or comments? Visit the [course discussion forum](https://www.kaggle.com/learn/python/discussion) to chat with other learners.*"
   ]
  }
 ],
 "metadata": {
  "kernelspec": {
   "display_name": "Python 3",
   "language": "python",
   "name": "python3"
  },
  "language_info": {
   "codemirror_mode": {
    "name": "ipython",
    "version": 3
   },
   "file_extension": ".py",
   "mimetype": "text/x-python",
   "name": "python",
   "nbconvert_exporter": "python",
   "pygments_lexer": "ipython3",
   "version": "3.7.12"
  },
  "papermill": {
   "default_parameters": {},
   "duration": 18.536945,
   "end_time": "2022-01-19T02:44:27.863407",
   "environment_variables": {},
   "exception": null,
   "input_path": "__notebook__.ipynb",
   "output_path": "__notebook__.ipynb",
   "parameters": {},
   "start_time": "2022-01-19T02:44:09.326462",
   "version": "2.3.3"
  }
 },
 "nbformat": 4,
 "nbformat_minor": 5
}
